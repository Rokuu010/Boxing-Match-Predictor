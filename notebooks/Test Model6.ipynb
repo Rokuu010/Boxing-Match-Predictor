{
 "cells": [
  {
   "cell_type": "code",
   "id": "initial_id",
   "metadata": {
    "collapsed": true,
    "ExecuteTime": {
     "end_time": "2025-09-05T15:36:09.104097Z",
     "start_time": "2025-09-05T15:36:07.286905Z"
    }
   },
   "source": [
    "import pandas as pd\n",
    "import matplotlib.pyplot as plt\n",
    "import seaborn as sns\n",
    "import logging\n",
    "\n",
    "from sklearn.model_selection import train_test_split, cross_val_score\n",
    "from sklearn.ensemble import RandomForestClassifier\n",
    "from sklearn.pipeline import make_pipeline\n",
    "from sklearn.metrics import (\n",
    "    classification_report,\n",
    "    confusion_matrix,\n",
    "    roc_auc_score,\n",
    "    balanced_accuracy_score\n",
    ")\n",
    "from sklearn.impute import SimpleImputer\n",
    "import joblib\n",
    "\n",
    "# SMOTE for class balancing\n",
    "from imblearn.over_sampling import SMOTE\n",
    "\n",
    "# Logging setup\n",
    "logging.basicConfig(level=logging.INFO, format=\"%(levelname)s: %(message)s\")"
   ],
   "outputs": [],
   "execution_count": 1
  },
  {
   "metadata": {
    "ExecuteTime": {
     "end_time": "2025-09-05T15:36:12.055847Z",
     "start_time": "2025-09-05T15:36:12.014252Z"
    }
   },
   "cell_type": "code",
   "source": [
    "def load_and_clean_data():\n",
    "    # Load dataset\n",
    "    df = pd.read_csv(\"boxing_data.csv\")\n",
    "\n",
    "    # Convert Result column (binary target)\n",
    "    df[\"Result\"] = df[\"Result\"].apply(lambda x: 1 if x == 1 else 0)\n",
    "\n",
    "    print(df[\"Result\"].value_counts(normalize=True))\n",
    "\n",
    "    numeric_cols = [\n",
    "        \"ReachA\",\"ReachB\",\"HeightA\",\"HeightB\",\"WeightA\",\"WeightB\",\n",
    "        \"AgeA\",\"AgeB\",\"WinsA\",\"WinsB\",\"KOPercA\",\"KOPercB\",\n",
    "        \"RecentWinPercA\",\"RecentWinPercB\",\"DefensePercA\",\"DefensePercB\",\n",
    "        \"PunchAccuracyA\",\"PunchAccuracyB\",\"StrengthOfScheduleA\",\"StrengthOfScheduleB\",\n",
    "        \"TimeSinceLastFightA\",\"TimeSinceLastFightB\",\"Result\"\n",
    "    ]\n",
    "\n",
    "    # Convert to numeric (errors → NaN)\n",
    "    df[numeric_cols] = df[numeric_cols].apply(pd.to_numeric, errors=\"coerce\")\n",
    "\n",
    "    # Drop rows with missing target\n",
    "    df = df.dropna(subset=[\"Result\"])\n",
    "    return df\n",
    "\n",
    "df = load_and_clean_data()\n",
    "logging.info(f\"Dataset loaded with {df.shape[0]} rows and {df.shape[1]} columns\")\n",
    "df.head()"
   ],
   "id": "bf12e43e4b5ac9e0",
   "outputs": [
    {
     "name": "stderr",
     "output_type": "stream",
     "text": [
      "INFO: Dataset loaded with 304 rows and 47 columns\n"
     ]
    },
    {
     "name": "stdout",
     "output_type": "stream",
     "text": [
      "Result\n",
      "1    0.634868\n",
      "0    0.365132\n",
      "Name: proportion, dtype: float64\n"
     ]
    },
    {
     "data": {
      "text/plain": [
       "           FighterA          FighterB  ReachA  ReachB  HeightA  HeightB  \\\n",
       "0      Dmitry Bivol    Canelo Alvarez    72.0    70.0     72.0     68.0   \n",
       "1      Muhammad Ali       Joe Frazier    80.0    73.0     75.0     71.5   \n",
       "2     Thomas Hearns     Marvin Hagler    78.0    75.0     73.0     69.0   \n",
       "3  Floyd Mayweather    Manny Pacquiao    72.0    67.0     68.0     65.0   \n",
       "4      Lennox Lewis  Vitali Klitschko    84.0    79.0     77.0     79.0   \n",
       "\n",
       "   WeightA  WeightB  AgeA  AgeB  ...  AvgOpponentWinPercB  \\\n",
       "0    174.0    174.0    31    31  ...                 0.78   \n",
       "1    215.0    205.5    29    27  ...                 0.74   \n",
       "2    159.5    159.0    26    30  ...                 0.76   \n",
       "3    146.0    145.0    38    36  ...                 0.76   \n",
       "4    256.5    248.5    37    31  ...                 0.72   \n",
       "\n",
       "   StrengthOfScheduleA  StrengthOfScheduleB   StanceA   StanceB  \\\n",
       "0                  8.0                 10.0  Orthodox  Orthodox   \n",
       "1                 10.0                  9.0  Orthodox  Orthodox   \n",
       "2                  9.0                 10.0  Orthodox  Southpaw   \n",
       "3                 10.0                 10.0  Orthodox  Southpaw   \n",
       "4                 10.0                  9.0  Orthodox  Orthodox   \n",
       "\n",
       "       WeightClassA      WeightClassB  TitleFight  LocationAdvantage  Result  \n",
       "0  LightHeavyweight  LightHeavyweight           1                0.0       1  \n",
       "1       Heavyweight       Heavyweight           1                0.0       0  \n",
       "2      Middleweight      Middleweight           1                0.0       0  \n",
       "3      Welterweight      Welterweight           1                0.0       1  \n",
       "4       Heavyweight       Heavyweight           1                0.0       1  \n",
       "\n",
       "[5 rows x 47 columns]"
      ],
      "text/html": [
       "<div>\n",
       "<style scoped>\n",
       "    .dataframe tbody tr th:only-of-type {\n",
       "        vertical-align: middle;\n",
       "    }\n",
       "\n",
       "    .dataframe tbody tr th {\n",
       "        vertical-align: top;\n",
       "    }\n",
       "\n",
       "    .dataframe thead th {\n",
       "        text-align: right;\n",
       "    }\n",
       "</style>\n",
       "<table border=\"1\" class=\"dataframe\">\n",
       "  <thead>\n",
       "    <tr style=\"text-align: right;\">\n",
       "      <th></th>\n",
       "      <th>FighterA</th>\n",
       "      <th>FighterB</th>\n",
       "      <th>ReachA</th>\n",
       "      <th>ReachB</th>\n",
       "      <th>HeightA</th>\n",
       "      <th>HeightB</th>\n",
       "      <th>WeightA</th>\n",
       "      <th>WeightB</th>\n",
       "      <th>AgeA</th>\n",
       "      <th>AgeB</th>\n",
       "      <th>...</th>\n",
       "      <th>AvgOpponentWinPercB</th>\n",
       "      <th>StrengthOfScheduleA</th>\n",
       "      <th>StrengthOfScheduleB</th>\n",
       "      <th>StanceA</th>\n",
       "      <th>StanceB</th>\n",
       "      <th>WeightClassA</th>\n",
       "      <th>WeightClassB</th>\n",
       "      <th>TitleFight</th>\n",
       "      <th>LocationAdvantage</th>\n",
       "      <th>Result</th>\n",
       "    </tr>\n",
       "  </thead>\n",
       "  <tbody>\n",
       "    <tr>\n",
       "      <th>0</th>\n",
       "      <td>Dmitry Bivol</td>\n",
       "      <td>Canelo Alvarez</td>\n",
       "      <td>72.0</td>\n",
       "      <td>70.0</td>\n",
       "      <td>72.0</td>\n",
       "      <td>68.0</td>\n",
       "      <td>174.0</td>\n",
       "      <td>174.0</td>\n",
       "      <td>31</td>\n",
       "      <td>31</td>\n",
       "      <td>...</td>\n",
       "      <td>0.78</td>\n",
       "      <td>8.0</td>\n",
       "      <td>10.0</td>\n",
       "      <td>Orthodox</td>\n",
       "      <td>Orthodox</td>\n",
       "      <td>LightHeavyweight</td>\n",
       "      <td>LightHeavyweight</td>\n",
       "      <td>1</td>\n",
       "      <td>0.0</td>\n",
       "      <td>1</td>\n",
       "    </tr>\n",
       "    <tr>\n",
       "      <th>1</th>\n",
       "      <td>Muhammad Ali</td>\n",
       "      <td>Joe Frazier</td>\n",
       "      <td>80.0</td>\n",
       "      <td>73.0</td>\n",
       "      <td>75.0</td>\n",
       "      <td>71.5</td>\n",
       "      <td>215.0</td>\n",
       "      <td>205.5</td>\n",
       "      <td>29</td>\n",
       "      <td>27</td>\n",
       "      <td>...</td>\n",
       "      <td>0.74</td>\n",
       "      <td>10.0</td>\n",
       "      <td>9.0</td>\n",
       "      <td>Orthodox</td>\n",
       "      <td>Orthodox</td>\n",
       "      <td>Heavyweight</td>\n",
       "      <td>Heavyweight</td>\n",
       "      <td>1</td>\n",
       "      <td>0.0</td>\n",
       "      <td>0</td>\n",
       "    </tr>\n",
       "    <tr>\n",
       "      <th>2</th>\n",
       "      <td>Thomas Hearns</td>\n",
       "      <td>Marvin Hagler</td>\n",
       "      <td>78.0</td>\n",
       "      <td>75.0</td>\n",
       "      <td>73.0</td>\n",
       "      <td>69.0</td>\n",
       "      <td>159.5</td>\n",
       "      <td>159.0</td>\n",
       "      <td>26</td>\n",
       "      <td>30</td>\n",
       "      <td>...</td>\n",
       "      <td>0.76</td>\n",
       "      <td>9.0</td>\n",
       "      <td>10.0</td>\n",
       "      <td>Orthodox</td>\n",
       "      <td>Southpaw</td>\n",
       "      <td>Middleweight</td>\n",
       "      <td>Middleweight</td>\n",
       "      <td>1</td>\n",
       "      <td>0.0</td>\n",
       "      <td>0</td>\n",
       "    </tr>\n",
       "    <tr>\n",
       "      <th>3</th>\n",
       "      <td>Floyd Mayweather</td>\n",
       "      <td>Manny Pacquiao</td>\n",
       "      <td>72.0</td>\n",
       "      <td>67.0</td>\n",
       "      <td>68.0</td>\n",
       "      <td>65.0</td>\n",
       "      <td>146.0</td>\n",
       "      <td>145.0</td>\n",
       "      <td>38</td>\n",
       "      <td>36</td>\n",
       "      <td>...</td>\n",
       "      <td>0.76</td>\n",
       "      <td>10.0</td>\n",
       "      <td>10.0</td>\n",
       "      <td>Orthodox</td>\n",
       "      <td>Southpaw</td>\n",
       "      <td>Welterweight</td>\n",
       "      <td>Welterweight</td>\n",
       "      <td>1</td>\n",
       "      <td>0.0</td>\n",
       "      <td>1</td>\n",
       "    </tr>\n",
       "    <tr>\n",
       "      <th>4</th>\n",
       "      <td>Lennox Lewis</td>\n",
       "      <td>Vitali Klitschko</td>\n",
       "      <td>84.0</td>\n",
       "      <td>79.0</td>\n",
       "      <td>77.0</td>\n",
       "      <td>79.0</td>\n",
       "      <td>256.5</td>\n",
       "      <td>248.5</td>\n",
       "      <td>37</td>\n",
       "      <td>31</td>\n",
       "      <td>...</td>\n",
       "      <td>0.72</td>\n",
       "      <td>10.0</td>\n",
       "      <td>9.0</td>\n",
       "      <td>Orthodox</td>\n",
       "      <td>Orthodox</td>\n",
       "      <td>Heavyweight</td>\n",
       "      <td>Heavyweight</td>\n",
       "      <td>1</td>\n",
       "      <td>0.0</td>\n",
       "      <td>1</td>\n",
       "    </tr>\n",
       "  </tbody>\n",
       "</table>\n",
       "<p>5 rows × 47 columns</p>\n",
       "</div>"
      ]
     },
     "execution_count": 2,
     "metadata": {},
     "output_type": "execute_result"
    }
   ],
   "execution_count": 2
  },
  {
   "metadata": {
    "ExecuteTime": {
     "end_time": "2025-09-05T15:36:30.422134Z",
     "start_time": "2025-09-05T15:36:30.412876Z"
    }
   },
   "cell_type": "code",
   "source": [
    "def engineer_features(df):\n",
    "    df[\"ReachDiff\"] = df[\"ReachA\"] - df[\"ReachB\"]\n",
    "    df[\"AgeDiff\"] = df[\"AgeA\"] - df[\"AgeB\"]\n",
    "    df[\"HeightDiff\"] = df[\"HeightA\"] - df[\"HeightB\"]\n",
    "    df[\"WeightDiff\"] = df[\"WeightA\"] - df[\"WeightB\"]\n",
    "    df[\"KODiff\"] = df[\"KOPercA\"] - df[\"KOPercB\"]\n",
    "    df[\"WinDiff\"] = df[\"WinsA\"] - df[\"WinsB\"]\n",
    "    df[\"RecentWinPercDiff\"] = df[\"RecentWinPercA\"] - df[\"RecentWinPercB\"]\n",
    "    df[\"DefenseDiff\"] = df[\"DefensePercA\"] - df[\"DefensePercB\"]\n",
    "    df[\"PunchAccDiff\"] = df[\"PunchAccuracyA\"] - df[\"PunchAccuracyB\"]\n",
    "    df[\"SoSDiff\"] = df[\"StrengthOfScheduleA\"] - df[\"StrengthOfScheduleB\"]\n",
    "    df[\"TimeSinceDiff\"] = df[\"TimeSinceLastFightA\"] - df[\"TimeSinceLastFightB\"]\n",
    "\n",
    "    feature_cols = [\n",
    "        \"ReachDiff\",\"AgeDiff\",\"HeightDiff\",\"WeightDiff\",\n",
    "        \"KODiff\",\"WinDiff\",\"RecentWinPercDiff\",\n",
    "        \"DefenseDiff\",\"PunchAccDiff\",\"SoSDiff\",\"TimeSinceDiff\"\n",
    "    ]\n",
    "    return df, feature_cols\n",
    "\n",
    "df, feature_cols = engineer_features(df)"
   ],
   "id": "589e69a6184ed782",
   "outputs": [],
   "execution_count": 3
  },
  {
   "metadata": {
    "ExecuteTime": {
     "end_time": "2025-09-05T15:36:32.636660Z",
     "start_time": "2025-09-05T15:36:32.619124Z"
    }
   },
   "cell_type": "code",
   "source": [
    "X = df[feature_cols]\n",
    "y = df[\"Result\"]\n",
    "\n",
    "# Impute missing values\n",
    "imputer = SimpleImputer(strategy=\"mean\")\n",
    "X = pd.DataFrame(imputer.fit_transform(X), columns=feature_cols)\n",
    "\n",
    "# Split before SMOTE\n",
    "X_train, X_test, y_train, y_test = train_test_split(\n",
    "    X, y, test_size=0.2, random_state=42, stratify=y\n",
    ")\n",
    "\n",
    "# Apply SMOTE\n",
    "smote = SMOTE(random_state=42, k_neighbors=1)\n",
    "X_train_res, y_train_res = smote.fit_resample(X_train, y_train)\n",
    "\n",
    "logging.info(f\"Before SMOTE: {y_train.value_counts().to_dict()}\")\n",
    "logging.info(f\"After SMOTE: {y_train_res.value_counts().to_dict()}\")"
   ],
   "id": "9e6157280c8c0df6",
   "outputs": [
    {
     "name": "stderr",
     "output_type": "stream",
     "text": [
      "INFO: Before SMOTE: {1: 154, 0: 89}\n",
      "INFO: After SMOTE: {0: 154, 1: 154}\n"
     ]
    }
   ],
   "execution_count": 4
  },
  {
   "metadata": {
    "ExecuteTime": {
     "end_time": "2025-09-05T15:36:38.945392Z",
     "start_time": "2025-09-05T15:36:38.649706Z"
    }
   },
   "cell_type": "code",
   "source": [
    "model = make_pipeline(\n",
    "    imputer,\n",
    "    RandomForestClassifier(\n",
    "        n_estimators=300,\n",
    "        max_depth=10,\n",
    "        random_state=42,\n",
    "        class_weight=None,   # SMOTE balances classes\n",
    "        min_samples_split=5\n",
    "    )\n",
    ")\n",
    "\n",
    "model.fit(X_train_res, y_train_res)\n",
    "\n",
    "print(\"Train accuracy:\", model.score(X_train_res, y_train_res))\n",
    "print(\"Test accuracy:\", model.score(X_test, y_test))"
   ],
   "id": "e57b823abacc2d63",
   "outputs": [
    {
     "name": "stdout",
     "output_type": "stream",
     "text": [
      "Train accuracy: 0.987012987012987\n",
      "Test accuracy: 0.8524590163934426\n"
     ]
    }
   ],
   "execution_count": 5
  },
  {
   "metadata": {
    "ExecuteTime": {
     "end_time": "2025-09-05T15:40:44.876444Z",
     "start_time": "2025-09-05T15:40:44.741640Z"
    }
   },
   "cell_type": "code",
   "source": [
    "y_pred = model.predict(X_test)\n",
    "y_proba = model.predict_proba(X_test)\n",
    "\n",
    "print(\"\\nConfusion Matrix:\\n\", confusion_matrix(y_test, y_pred))\n",
    "print(\"\\nClassification Report:\\n\", classification_report(y_test, y_pred))\n",
    "print(\"Accuracy:\", model.score(X_test, y_test))\n",
    "print(\"Balanced Accuracy:\", balanced_accuracy_score(y_test, y_pred))\n",
    "print(\"ROC AUC:\", roc_auc_score(y_test, y_proba[:, 1]))\n",
    "\n",
    "sns.heatmap(confusion_matrix(y_test, y_pred), annot=True, fmt=\"d\", cmap=\"Blues\")\n",
    "plt.xlabel(\"Predicted\")\n",
    "plt.ylabel(\"Actual\")\n",
    "plt.title(\"Confusion Matrix\")\n",
    "plt.show()"
   ],
   "id": "6c235733ec556b79",
   "outputs": [
    {
     "name": "stdout",
     "output_type": "stream",
     "text": [
      "\n",
      "Confusion Matrix:\n",
      " [[14  8]\n",
      " [ 1 38]]\n",
      "\n",
      "Classification Report:\n",
      "               precision    recall  f1-score   support\n",
      "\n",
      "           0       0.93      0.64      0.76        22\n",
      "           1       0.83      0.97      0.89        39\n",
      "\n",
      "    accuracy                           0.85        61\n",
      "   macro avg       0.88      0.81      0.83        61\n",
      "weighted avg       0.86      0.85      0.84        61\n",
      "\n",
      "Accuracy: 0.8524590163934426\n",
      "Balanced Accuracy: 0.8053613053613053\n",
      "ROC AUC: 0.9079254079254079\n"
     ]
    },
    {
     "data": {
      "text/plain": [
       "<Figure size 640x480 with 2 Axes>"
      ],
      "image/png": "[encoded data removed]"
     },
     "metadata": {},
     "output_type": "display_data"
    }
   ],
   "execution_count": 13
  },
  {
   "metadata": {
    "ExecuteTime": {
     "end_time": "2025-09-05T15:36:45.677824Z",
     "start_time": "2025-09-05T15:36:45.486974Z"
    }
   },
   "cell_type": "code",
   "source": [
    "rf = model.named_steps[\"randomforestclassifier\"]\n",
    "importances = rf.feature_importances_\n",
    "\n",
    "plt.barh(feature_cols, importances)\n",
    "plt.xlabel(\"Importance\")\n",
    "plt.ylabel(\"Feature\")\n",
    "plt.title(\"Feature Importance in Fight Prediction\")\n",
    "plt.show()"
   ],
   "id": "838d7ed420801f54",
   "outputs": [
    {
     "data": {
      "text/plain": [
       "<Figure size 640x480 with 1 Axes>"
      ],
      "image/png": "[encoded data removed]"
     },
     "metadata": {},
     "output_type": "display_data"
    }
   ],
   "execution_count": 7
  },
  {
   "metadata": {
    "ExecuteTime": {
     "end_time": "2025-09-05T15:36:48.250896Z",
     "start_time": "2025-09-05T15:36:48.215747Z"
    }
   },
   "cell_type": "code",
   "source": [
    "fighters_stats = {}\n",
    "\n",
    "for _, row in df.iterrows():\n",
    "    fighters_stats[row[\"FighterA\"]] = {\n",
    "        \"Reach\": row[\"ReachA\"], \"Age\": row[\"AgeA\"], \"Height\": row[\"HeightA\"],\n",
    "        \"Weight\": row[\"WeightA\"], \"KO%\": row[\"KOPercA\"], \"Wins\": row[\"WinsA\"],\n",
    "        \"RecentWin%\": row[\"RecentWinPercA\"], \"Defense%\": row[\"DefensePercA\"],\n",
    "        \"PunchAcc\": row[\"PunchAccuracyA\"], \"SoS\": row[\"StrengthOfScheduleA\"],\n",
    "        \"TimeSince\": row[\"TimeSinceLastFightA\"]\n",
    "    }\n",
    "    fighters_stats[row[\"FighterB\"]] = {\n",
    "        \"Reach\": row[\"ReachB\"], \"Age\": row[\"AgeB\"], \"Height\": row[\"HeightB\"],\n",
    "        \"Weight\": row[\"WeightB\"], \"KO%\": row[\"KOPercB\"], \"Wins\": row[\"WinsB\"],\n",
    "        \"RecentWin%\": row[\"RecentWinPercB\"], \"Defense%\": row[\"DefensePercB\"],\n",
    "        \"PunchAcc\": row[\"PunchAccuracyB\"], \"SoS\": row[\"StrengthOfScheduleB\"],\n",
    "        \"TimeSince\": row[\"TimeSinceLastFightB\"]\n",
    "    }"
   ],
   "id": "900da54b1a389499",
   "outputs": [],
   "execution_count": 8
  },
  {
   "metadata": {
    "ExecuteTime": {
     "end_time": "2025-09-05T15:42:47.182480Z",
     "start_time": "2025-09-05T15:42:47.157346Z"
    }
   },
   "cell_type": "code",
   "source": [
    "def predict_fight(fighterA, fighterB, model, fighters_stats):\n",
    "    if fighterA not in fighters_stats or fighterB not in fighters_stats:\n",
    "        raise ValueError(\"One or both fighters not found in dataset\")\n",
    "\n",
    "    statsA, statsB = fighters_stats[fighterA], fighters_stats[fighterB]\n",
    "\n",
    "    features = {\n",
    "        \"ReachDiff\": statsA[\"Reach\"] - statsB[\"Reach\"],\n",
    "        \"AgeDiff\": statsA[\"Age\"] - statsB[\"Age\"],\n",
    "        \"HeightDiff\": statsA[\"Height\"] - statsB[\"Height\"],\n",
    "        \"WeightDiff\": statsA[\"Weight\"] - statsB[\"Weight\"],\n",
    "        \"KODiff\": statsA[\"KO%\"] - statsB[\"KO%\"],\n",
    "        \"WinDiff\": statsA[\"Wins\"] - statsB[\"Wins\"],\n",
    "        \"RecentWinPercDiff\": statsA[\"RecentWin%\"] - statsB[\"RecentWin%\"],\n",
    "        \"DefenseDiff\": statsA[\"Defense%\"] - statsB[\"Defense%\"],\n",
    "        \"PunchAccDiff\": statsA[\"PunchAcc\"] - statsB[\"PunchAcc\"],\n",
    "        \"SoSDiff\": statsA[\"SoS\"] - statsB[\"SoS\"],\n",
    "        \"TimeSinceDiff\": statsA[\"TimeSince\"] - statsB[\"TimeSince\"]\n",
    "    }\n",
    "\n",
    "    X_pred = pd.DataFrame([features])\n",
    "    pred = model.predict(X_pred)[0]\n",
    "    prob = model.predict_proba(X_pred)[0]\n",
    "\n",
    "    winner = fighterA if pred == 1 else fighterB\n",
    "    confidence = prob[int(pred)]\n",
    "    return winner, confidence\n",
    "\n",
    "# Example\n",
    "winner, confidence = predict_fight(\"Mike Tyson\", \"Muhammad Ali\", model, fighters_stats)\n",
    "print(f\"Predicted winner: {winner} (Confidence: {confidence:.2f})\")"
   ],
   "id": "b1188a55aa776557",
   "outputs": [
    {
     "name": "stdout",
     "output_type": "stream",
     "text": [
      "Predicted winner: Mike Tyson (Confidence: 0.54)\n"
     ]
    }
   ],
   "execution_count": 14
  }
 ],
 "metadata": {
  "kernelspec": {
   "display_name": "Python 3",
   "language": "python",
   "name": "python3"
  },
  "language_info": {
   "codemirror_mode": {
    "name": "ipython",
    "version": 2
   },
   "file_extension": ".py",
   "mimetype": "text/x-python",
   "name": "python",
   "nbconvert_exporter": "python",
   "pygments_lexer": "ipython2",
   "version": "2.7.6"
  }
 },
 "nbformat": 4,
 "nbformat_minor": 5
}
