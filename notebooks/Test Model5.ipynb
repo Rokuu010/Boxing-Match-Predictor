{
 "cells": [
  {
   "cell_type": "code",
   "id": "initial_id",
   "metadata": {
    "collapsed": true,
    "ExecuteTime": {
     "end_time": "2025-09-04T22:16:21.778475Z",
     "start_time": "2025-09-04T22:16:21.774676Z"
    }
   },
   "source": [
    "import pandas as pd\n",
    "import matplotlib.pyplot as plt\n",
    "from sklearn.model_selection import train_test_split, cross_val_score\n",
    "from sklearn.ensemble import RandomForestClassifier\n",
    "from sklearn.preprocessing import StandardScaler\n",
    "from sklearn.pipeline import make_pipeline\n",
    "from sklearn.metrics import classification_report, confusion_matrix"
   ],
   "outputs": [],
   "execution_count": 12
  },
  {
   "metadata": {
    "ExecuteTime": {
     "end_time": "2025-09-04T22:16:24.368394Z",
     "start_time": "2025-09-04T22:16:24.357524Z"
    }
   },
   "cell_type": "code",
   "source": [
    "# Load dataset\n",
    "df = pd.read_csv(\"boxing_data.csv\")\n",
    "\n",
    "# List of numeric columns that should be converted\n",
    "numeric_cols = [\n",
    "    \"ReachA\",\"ReachB\",\"HeightA\",\"HeightB\",\"WeightA\",\"WeightB\",\n",
    "    \"AgeA\",\"AgeB\",\"WinsA\",\"WinsB\",\"KOPercA\",\"KOPercB\",\n",
    "    \"RecentWinPercA\",\"RecentWinPercB\",\"DefensePercA\",\"DefensePercB\",\n",
    "    \"PunchAccuracyA\",\"PunchAccuracyB\",\"StrengthOfScheduleA\",\"StrengthOfScheduleB\",\n",
    "    \"TimeSinceLastFightA\",\"TimeSinceLastFightB\",\"Result\"\n",
    "]\n",
    "\n",
    "# Convert to numeric (invalid entries become NaN)\n",
    "df[numeric_cols] = df[numeric_cols].apply(pd.to_numeric, errors=\"coerce\")"
   ],
   "id": "603f1312c1361c19",
   "outputs": [],
   "execution_count": 13
  },
  {
   "metadata": {
    "ExecuteTime": {
     "end_time": "2025-09-04T22:16:28.252559Z",
     "start_time": "2025-09-04T22:16:28.245055Z"
    }
   },
   "cell_type": "code",
   "source": [
    "# Feature differences\n",
    "df[\"ReachDiff\"] = df[\"ReachA\"] - df[\"ReachB\"]\n",
    "df[\"AgeDiff\"] = df[\"AgeA\"] - df[\"AgeB\"]\n",
    "df[\"HeightDiff\"] = df[\"HeightA\"] - df[\"HeightB\"]\n",
    "df[\"WeightDiff\"] = df[\"WeightA\"] - df[\"WeightB\"]\n",
    "df[\"KODiff\"] = df[\"KOPercA\"] - df[\"KOPercB\"]\n",
    "df[\"WinDiff\"] = df[\"WinsA\"] - df[\"WinsB\"]\n",
    "\n",
    "# Extra differences\n",
    "df[\"RecentWinPercDiff\"] = df[\"RecentWinPercA\"] - df[\"RecentWinPercB\"]\n",
    "df[\"DefenseDiff\"] = df[\"DefensePercA\"] - df[\"DefensePercB\"]\n",
    "df[\"PunchAccDiff\"] = df[\"PunchAccuracyA\"] - df[\"PunchAccuracyB\"]\n",
    "df[\"SoSDiff\"] = df[\"StrengthOfScheduleA\"] - df[\"StrengthOfScheduleB\"]\n",
    "df[\"TimeSinceDiff\"] = df[\"TimeSinceLastFightA\"] - df[\"TimeSinceLastFightB\"]\n",
    "\n",
    "# Drop rows with missing results\n",
    "df = df.dropna(subset=[\"Result\"])"
   ],
   "id": "53f36160e3fa1cb1",
   "outputs": [],
   "execution_count": 14
  },
  {
   "metadata": {
    "ExecuteTime": {
     "end_time": "2025-09-04T22:16:34.376951Z",
     "start_time": "2025-09-04T22:16:34.372835Z"
    }
   },
   "cell_type": "code",
   "source": [
    "# Features and target\n",
    "feature_cols = [\n",
    "    \"ReachDiff\", \"AgeDiff\", \"HeightDiff\", \"WeightDiff\",\n",
    "    \"KODiff\", \"WinDiff\", \"RecentWinPercDiff\",\n",
    "    \"DefenseDiff\", \"PunchAccDiff\", \"SoSDiff\", \"TimeSinceDiff\"\n",
    "]\n",
    "\n",
    "X = df[feature_cols]\n",
    "y = df[\"Result\"]   # 1 = FighterA wins, 0 = FighterB wins"
   ],
   "id": "99168148535a395c",
   "outputs": [],
   "execution_count": 15
  },
  {
   "metadata": {
    "ExecuteTime": {
     "end_time": "2025-09-04T22:16:46.533509Z",
     "start_time": "2025-09-04T22:16:46.266587Z"
    }
   },
   "cell_type": "code",
   "source": [
    "# Train/Test split\n",
    "X_train, X_test, y_train, y_test = train_test_split(\n",
    "    X, y, test_size=0.2, random_state=42\n",
    ")\n",
    "\n",
    "# Model pipeline with scaling + RandomForest\n",
    "model = make_pipeline(\n",
    "    StandardScaler(),\n",
    "    RandomForestClassifier(\n",
    "        n_estimators=300,\n",
    "        max_depth=10,\n",
    "        random_state=42,\n",
    "        class_weight=\"balanced\",\n",
    "        min_samples_split=5\n",
    "    )\n",
    ")\n",
    "\n",
    "# Train model\n",
    "model.fit(X_train, y_train)\n",
    "\n",
    "print(\"Train accuracy:\", model.score(X_train, y_train))\n",
    "print(\"Test accuracy:\", model.score(X_test, y_test))"
   ],
   "id": "d4d53c5e2a486625",
   "outputs": [
    {
     "name": "stdout",
     "output_type": "stream",
     "text": [
      "Train accuracy: 1.0\n",
      "Test accuracy: 0.7872340425531915\n"
     ]
    }
   ],
   "execution_count": 17
  },
  {
   "metadata": {
    "ExecuteTime": {
     "end_time": "2025-09-04T22:16:56.890478Z",
     "start_time": "2025-09-04T22:16:55.541093Z"
    }
   },
   "cell_type": "code",
   "source": [
    "# Predictions\n",
    "y_pred = model.predict(X_test)\n",
    "\n",
    "# Confusion matrix & classification report\n",
    "print(\"\\nConfusion Matrix:\\n\", confusion_matrix(y_test, y_pred))\n",
    "print(\"\\nClassification Report:\\n\", classification_report(y_test, y_pred))\n",
    "\n",
    "# Cross-validation for stability\n",
    "scores = cross_val_score(model, X, y, cv=5)\n",
    "print(\"Cross-validation accuracy:\", scores.mean())"
   ],
   "id": "bd2fd1f3912a2618",
   "outputs": [
    {
     "name": "stdout",
     "output_type": "stream",
     "text": [
      "\n",
      "Confusion Matrix:\n",
      " [[ 0  8]\n",
      " [ 2 37]]\n",
      "\n",
      "Classification Report:\n",
      "               precision    recall  f1-score   support\n",
      "\n",
      "         0.0       0.00      0.00      0.00         8\n",
      "         1.0       0.82      0.95      0.88        39\n",
      "\n",
      "    accuracy                           0.79        47\n",
      "   macro avg       0.41      0.47      0.44        47\n",
      "weighted avg       0.68      0.79      0.73        47\n",
      "\n"
     ]
    },
    {
     "name": "stderr",
     "output_type": "stream",
     "text": [
      "C:\\Users\\ruder\\IdeaProjects\\Boxing Match Predictor\\venv\\Lib\\site-packages\\sklearn\\model_selection\\_split.py:811: UserWarning: The least populated class in y has only 4 members, which is less than n_splits=5.\n",
      "  warnings.warn(\n"
     ]
    },
    {
     "name": "stdout",
     "output_type": "stream",
     "text": [
      "Cross-validation accuracy: 0.7609620721554118\n"
     ]
    }
   ],
   "execution_count": 18
  },
  {
   "metadata": {
    "ExecuteTime": {
     "end_time": "2025-09-04T22:17:02.857100Z",
     "start_time": "2025-09-04T22:17:02.763696Z"
    }
   },
   "cell_type": "code",
   "source": [
    "# Get RandomForest model from pipeline\n",
    "rf = model.named_steps[\"randomforestclassifier\"]\n",
    "\n",
    "# Plot feature importances\n",
    "importances = rf.feature_importances_\n",
    "plt.barh(feature_cols, importances)\n",
    "plt.xlabel(\"Importance\")\n",
    "plt.ylabel(\"Feature\")\n",
    "plt.title(\"Feature Importance in Fight Prediction\")\n",
    "plt.show()"
   ],
   "id": "5ae7f95bf60fa86",
   "outputs": [
    {
     "data": {
      "text/plain": [
       "<Figure size 640x480 with 1 Axes>"
      ],
      "image/png": "[encoded data removed]"
     },
     "metadata": {},
     "output_type": "display_data"
    }
   ],
   "execution_count": 19
  },
  {
   "metadata": {
    "ExecuteTime": {
     "end_time": "2025-09-04T22:17:06.283170Z",
     "start_time": "2025-09-04T22:17:06.266960Z"
    }
   },
   "cell_type": "code",
   "source": [
    "fighters_stats = {}\n",
    "\n",
    "for _, row in df.iterrows():\n",
    "    fighters_stats[row[\"FighterA\"]] = {\n",
    "        \"Reach\": row[\"ReachA\"],\n",
    "        \"Age\": row[\"AgeA\"],\n",
    "        \"Height\": row[\"HeightA\"],\n",
    "        \"Weight\": row[\"WeightA\"],\n",
    "        \"KO%\": row[\"KOPercA\"],\n",
    "        \"Wins\": row[\"WinsA\"],\n",
    "        \"RecentWin%\": row[\"RecentWinPercA\"],\n",
    "        \"Defense%\": row[\"DefensePercA\"],\n",
    "        \"PunchAcc\": row[\"PunchAccuracyA\"],\n",
    "        \"SoS\": row[\"StrengthOfScheduleA\"],\n",
    "        \"TimeSince\": row[\"TimeSinceLastFightA\"]\n",
    "    }\n",
    "    fighters_stats[row[\"FighterB\"]] = {\n",
    "        \"Reach\": row[\"ReachB\"],\n",
    "        \"Age\": row[\"AgeB\"],\n",
    "        \"Height\": row[\"HeightB\"],\n",
    "        \"Weight\": row[\"WeightB\"],\n",
    "        \"KO%\": row[\"KOPercB\"],\n",
    "        \"Wins\": row[\"WinsB\"],\n",
    "        \"RecentWin%\": row[\"RecentWinPercB\"],\n",
    "        \"Defense%\": row[\"DefensePercB\"],\n",
    "        \"PunchAcc\": row[\"PunchAccuracyB\"],\n",
    "        \"SoS\": row[\"StrengthOfScheduleB\"],\n",
    "        \"TimeSince\": row[\"TimeSinceLastFightB\"]\n",
    "    }"
   ],
   "id": "ee062021ef7ffe64",
   "outputs": [],
   "execution_count": 20
  },
  {
   "metadata": {
    "ExecuteTime": {
     "end_time": "2025-09-04T22:17:08.449555Z",
     "start_time": "2025-09-04T22:17:08.445789Z"
    }
   },
   "cell_type": "code",
   "source": [
    "def predict_fight(fighterA, fighterB, model, fighters_stats):\n",
    "    statsA = fighters_stats[fighterA]\n",
    "    statsB = fighters_stats[fighterB]\n",
    "\n",
    "    features = {\n",
    "        \"ReachDiff\": statsA[\"Reach\"] - statsB[\"Reach\"],\n",
    "        \"AgeDiff\": statsA[\"Age\"] - statsB[\"Age\"],\n",
    "        \"HeightDiff\": statsA[\"Height\"] - statsB[\"Height\"],\n",
    "        \"WeightDiff\": statsA[\"Weight\"] - statsB[\"Weight\"],\n",
    "        \"KODiff\": statsA[\"KO%\"] - statsB[\"KO%\"],\n",
    "        \"WinDiff\": statsA[\"Wins\"] - statsB[\"Wins\"],\n",
    "        \"RecentWinPercDiff\": statsA[\"RecentWin%\"] - statsB[\"RecentWin%\"],\n",
    "        \"DefenseDiff\": statsA[\"Defense%\"] - statsB[\"Defense%\"],\n",
    "        \"PunchAccDiff\": statsA[\"PunchAcc\"] - statsB[\"PunchAcc\"],\n",
    "        \"SoSDiff\": statsA[\"SoS\"] - statsB[\"SoS\"],\n",
    "        \"TimeSinceDiff\": statsA[\"TimeSince\"] - statsB[\"TimeSince\"]\n",
    "    }\n",
    "\n",
    "    X_pred = pd.DataFrame([features])\n",
    "    pred = model.predict(X_pred)[0]\n",
    "    prob = model.predict_proba(X_pred)[0]\n",
    "\n",
    "    winner = fighterA if pred == 1 else fighterB\n",
    "    confidence = prob[int(pred)]\n",
    "\n",
    "    return winner, confidence"
   ],
   "id": "b03bf7825b633984",
   "outputs": [],
   "execution_count": 21
  },
  {
   "metadata": {
    "ExecuteTime": {
     "end_time": "2025-09-04T22:17:10.663190Z",
     "start_time": "2025-09-04T22:17:10.642487Z"
    }
   },
   "cell_type": "code",
   "source": [
    "winner, confidence = predict_fight(\"Mike Tyson\", \"Muhammad Ali\", model, fighters_stats)\n",
    "print(f\"Predicted winner: {winner} (Confidence: {confidence:.2f})\")"
   ],
   "id": "57a3c3e4e7fe0886",
   "outputs": [
    {
     "name": "stdout",
     "output_type": "stream",
     "text": [
      "Predicted winner: Mike Tyson (Confidence: 0.74)\n"
     ]
    }
   ],
   "execution_count": 22
  }
 ],
 "metadata": {
  "kernelspec": {
   "display_name": "Python 3",
   "language": "python",
   "name": "python3"
  },
  "language_info": {
   "codemirror_mode": {
    "name": "ipython",
    "version": 2
   },
   "file_extension": ".py",
   "mimetype": "text/x-python",
   "name": "python",
   "nbconvert_exporter": "python",
   "pygments_lexer": "ipython2",
   "version": "2.7.6"
  }
 },
 "nbformat": 4,
 "nbformat_minor": 5
}
