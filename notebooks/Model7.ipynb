{
 "cells": [
  {
   "cell_type": "code",
   "id": "initial_id",
   "metadata": {
    "collapsed": true,
    "ExecuteTime": {
     "end_time": "2025-09-08T17:23:27.187971Z",
     "start_time": "2025-09-08T17:23:27.183307Z"
    }
   },
   "source": [
    "# Core\n",
    "import pandas as pd\n",
    "import numpy as np\n",
    "import json, logging, warnings, re\n",
    "warnings.filterwarnings(\"ignore\")\n",
    "\n",
    "# Modeling\n",
    "from sklearn.model_selection import train_test_split, StratifiedKFold, RandomizedSearchCV, learning_curve\n",
    "from sklearn.metrics import (classification_report, confusion_matrix, roc_auc_score,\n",
    "                             balanced_accuracy_score, f1_score, roc_curve, auc)\n",
    "from sklearn.impute import SimpleImputer\n",
    "from sklearn.ensemble import RandomForestClassifier, VotingClassifier\n",
    "from sklearn.linear_model import LogisticRegression\n",
    "from sklearn.calibration import CalibratedClassifierCV, calibration_curve\n",
    "from imblearn.over_sampling import SMOTE\n",
    "\n",
    "# Plotting\n",
    "import matplotlib.pyplot as plt\n",
    "\n",
    "# Save/Load\n",
    "import joblib, os\n",
    "\n",
    "# Extra\n",
    "import xgboost as xgb\n",
    "from difflib import get_close_matches\n",
    "\n",
    "# Optional web helpers (Wikipedia)\n",
    "import requests\n",
    "from bs4 import BeautifulSoup\n",
    "\n",
    "# Logging\n",
    "logging.basicConfig(level=logging.INFO, format=\"%(levelname)s: %(message)s\")"
   ],
   "outputs": [
    {
     "ename": "SyntaxError",
     "evalue": "invalid syntax (1542491293.py, line 34)",
     "output_type": "error",
     "traceback": [
      "  \u001B[36mCell\u001B[39m\u001B[36m \u001B[39m\u001B[32mIn[4]\u001B[39m\u001B[32m, line 34\u001B[39m\n\u001B[31m    \u001B[39m\u001B[31mpip install shap\u001B[39m\n        ^\n\u001B[31mSyntaxError\u001B[39m\u001B[31m:\u001B[39m invalid syntax\n"
     ]
    }
   ],
   "execution_count": 4
  },
  {
   "metadata": {
    "ExecuteTime": {
     "end_time": "2025-09-08T17:25:51.325198Z",
     "start_time": "2025-09-08T17:25:49.401787Z"
    }
   },
   "cell_type": "code",
   "source": "!pip install shap\n",
   "id": "23cf5683d297c29a",
   "outputs": [
    {
     "name": "stdout",
     "output_type": "stream",
     "text": [
      "Requirement already satisfied: shap in c:\\users\\ruder\\ideaprojects\\boxing match predictor\\venv\\lib\\site-packages (0.48.0)\n",
      "Requirement already satisfied: numpy in c:\\users\\ruder\\ideaprojects\\boxing match predictor\\venv\\lib\\site-packages (from shap) (2.2.6)\n",
      "Requirement already satisfied: scipy in c:\\users\\ruder\\ideaprojects\\boxing match predictor\\venv\\lib\\site-packages (from shap) (1.16.1)\n",
      "Requirement already satisfied: scikit-learn in c:\\users\\ruder\\ideaprojects\\boxing match predictor\\venv\\lib\\site-packages (from shap) (1.7.1)\n",
      "Requirement already satisfied: pandas in c:\\users\\ruder\\ideaprojects\\boxing match predictor\\venv\\lib\\site-packages (from shap) (2.3.1)\n",
      "Requirement already satisfied: tqdm>=4.27.0 in c:\\users\\ruder\\ideaprojects\\boxing match predictor\\venv\\lib\\site-packages (from shap) (4.67.1)\n",
      "Requirement already satisfied: packaging>20.9 in c:\\users\\ruder\\ideaprojects\\boxing match predictor\\venv\\lib\\site-packages (from shap) (25.0)\n",
      "Requirement already satisfied: slicer==0.0.8 in c:\\users\\ruder\\ideaprojects\\boxing match predictor\\venv\\lib\\site-packages (from shap) (0.0.8)\n",
      "Requirement already satisfied: numba>=0.54 in c:\\users\\ruder\\ideaprojects\\boxing match predictor\\venv\\lib\\site-packages (from shap) (0.61.2)\n",
      "Requirement already satisfied: cloudpickle in c:\\users\\ruder\\ideaprojects\\boxing match predictor\\venv\\lib\\site-packages (from shap) (3.1.1)\n",
      "Requirement already satisfied: typing-extensions in c:\\users\\ruder\\ideaprojects\\boxing match predictor\\venv\\lib\\site-packages (from shap) (4.14.1)\n",
      "Requirement already satisfied: llvmlite<0.45,>=0.44.0dev0 in c:\\users\\ruder\\ideaprojects\\boxing match predictor\\venv\\lib\\site-packages (from numba>=0.54->shap) (0.44.0)\n",
      "Requirement already satisfied: colorama in c:\\users\\ruder\\ideaprojects\\boxing match predictor\\venv\\lib\\site-packages (from tqdm>=4.27.0->shap) (0.4.6)\n",
      "Requirement already satisfied: python-dateutil>=2.8.2 in c:\\users\\ruder\\ideaprojects\\boxing match predictor\\venv\\lib\\site-packages (from pandas->shap) (2.9.0.post0)\n",
      "Requirement already satisfied: pytz>=2020.1 in c:\\users\\ruder\\ideaprojects\\boxing match predictor\\venv\\lib\\site-packages (from pandas->shap) (2025.2)\n",
      "Requirement already satisfied: tzdata>=2022.7 in c:\\users\\ruder\\ideaprojects\\boxing match predictor\\venv\\lib\\site-packages (from pandas->shap) (2025.2)\n",
      "Requirement already satisfied: joblib>=1.2.0 in c:\\users\\ruder\\ideaprojects\\boxing match predictor\\venv\\lib\\site-packages (from scikit-learn->shap) (1.5.1)\n",
      "Requirement already satisfied: threadpoolctl>=3.1.0 in c:\\users\\ruder\\ideaprojects\\boxing match predictor\\venv\\lib\\site-packages (from scikit-learn->shap) (3.6.0)\n",
      "Requirement already satisfied: six>=1.5 in c:\\users\\ruder\\ideaprojects\\boxing match predictor\\venv\\lib\\site-packages (from python-dateutil>=2.8.2->pandas->shap) (1.17.0)\n"
     ]
    },
    {
     "name": "stderr",
     "output_type": "stream",
     "text": [
      "\n",
      "[notice] A new release of pip is available: 23.2.1 -> 25.2\n",
      "[notice] To update, run: python.exe -m pip install --upgrade pip\n"
     ]
    }
   ],
   "execution_count": 6
  },
  {
   "metadata": {
    "ExecuteTime": {
     "end_time": "2025-09-08T16:55:23.509215Z",
     "start_time": "2025-09-08T16:55:23.472787Z"
    }
   },
   "cell_type": "code",
   "source": [
    "def load_and_clean_data(csv_path=\"boxing_data.csv\"):\n",
    "    df = pd.read_csv(csv_path)\n",
    "\n",
    "    # Binary target: 1 stays 1 (A wins), everything else -> 0\n",
    "    df[\"Result\"] = df[\"Result\"].apply(lambda x: 1 if x == 1 else 0)\n",
    "\n",
    "    numeric_cols = [\n",
    "        \"ReachA\",\"ReachB\",\"HeightA\",\"HeightB\",\"WeightA\",\"WeightB\",\n",
    "        \"AgeA\",\"AgeB\",\"WinsA\",\"WinsB\",\"KOPercA\",\"KOPercB\",\n",
    "        \"RecentWinPercA\",\"RecentWinPercB\",\"DefensePercA\",\"DefensePercB\",\n",
    "        \"PunchAccuracyA\",\"PunchAccuracyB\",\"StrengthOfScheduleA\",\"StrengthOfScheduleB\",\n",
    "        \"TimeSinceLastFightA\",\"TimeSinceLastFightB\",\"Result\"\n",
    "    ]\n",
    "    df[numeric_cols] = df[numeric_cols].apply(pd.to_numeric, errors=\"coerce\")\n",
    "    df = df.dropna(subset=[\"Result\"])\n",
    "\n",
    "    logging.info(f\"Dataset loaded with {df.shape[0]} rows and {df.shape[1]} columns\")\n",
    "    print(df[\"Result\"].value_counts(normalize=True).rename(\"proportion\"))\n",
    "    return df\n",
    "\n",
    "df = load_and_clean_data(\"boxing_data.csv\")\n",
    "df.head()"
   ],
   "id": "586786c4d57dc3b1",
   "outputs": [
    {
     "name": "stderr",
     "output_type": "stream",
     "text": [
      "INFO: Dataset loaded with 304 rows and 47 columns\n"
     ]
    },
    {
     "name": "stdout",
     "output_type": "stream",
     "text": [
      "Result\n",
      "1    0.634868\n",
      "0    0.365132\n",
      "Name: proportion, dtype: float64\n"
     ]
    },
    {
     "data": {
      "text/plain": [
       "           FighterA          FighterB  ReachA  ReachB  HeightA  HeightB  \\\n",
       "0      Dmitry Bivol    Canelo Alvarez     183     179      183      171   \n",
       "1      Muhammad Ali       Joe Frazier     198     187      191      182   \n",
       "2     Thomas Hearns     Marvin Hagler     198     191      185      178   \n",
       "3  Floyd Mayweather    Manny Pacquiao     183     170      173      165   \n",
       "4      Lennox Lewis  Vitali Klitschko     213     201      196      201   \n",
       "\n",
       "   WeightA  WeightB  AgeA  AgeB  ...  AvgOpponentWinPercB  \\\n",
       "0    174.0    174.0    31    31  ...                 0.78   \n",
       "1    215.0    205.5    29    27  ...                 0.74   \n",
       "2    159.5    159.0    26    30  ...                 0.76   \n",
       "3    154.0    154.0    38    36  ...                 0.76   \n",
       "4    244.0    248.5    37    31  ...                 0.72   \n",
       "\n",
       "   StrengthOfScheduleA  StrengthOfScheduleB   StanceA   StanceB  \\\n",
       "0                  8.0                 10.0  Orthodox  Orthodox   \n",
       "1                 10.0                  9.0  Orthodox  Orthodox   \n",
       "2                  9.0                 10.0  Orthodox  Southpaw   \n",
       "3                 10.0                 10.0  Orthodox  Southpaw   \n",
       "4                 10.0                  9.0  Orthodox  Orthodox   \n",
       "\n",
       "       WeightClassA      WeightClassB  TitleFight  LocationAdvantage  Result  \n",
       "0  LightHeavyweight  LightHeavyweight           1                0.0       1  \n",
       "1       Heavyweight       Heavyweight           1                0.0       0  \n",
       "2      Middleweight      Middleweight           1                0.0       0  \n",
       "3      Welterweight      Welterweight           1                0.0       1  \n",
       "4       Heavyweight       Heavyweight           1                0.0       1  \n",
       "\n",
       "[5 rows x 47 columns]"
      ],
      "text/html": [
       "<div>\n",
       "<style scoped>\n",
       "    .dataframe tbody tr th:only-of-type {\n",
       "        vertical-align: middle;\n",
       "    }\n",
       "\n",
       "    .dataframe tbody tr th {\n",
       "        vertical-align: top;\n",
       "    }\n",
       "\n",
       "    .dataframe thead th {\n",
       "        text-align: right;\n",
       "    }\n",
       "</style>\n",
       "<table border=\"1\" class=\"dataframe\">\n",
       "  <thead>\n",
       "    <tr style=\"text-align: right;\">\n",
       "      <th></th>\n",
       "      <th>FighterA</th>\n",
       "      <th>FighterB</th>\n",
       "      <th>ReachA</th>\n",
       "      <th>ReachB</th>\n",
       "      <th>HeightA</th>\n",
       "      <th>HeightB</th>\n",
       "      <th>WeightA</th>\n",
       "      <th>WeightB</th>\n",
       "      <th>AgeA</th>\n",
       "      <th>AgeB</th>\n",
       "      <th>...</th>\n",
       "      <th>AvgOpponentWinPercB</th>\n",
       "      <th>StrengthOfScheduleA</th>\n",
       "      <th>StrengthOfScheduleB</th>\n",
       "      <th>StanceA</th>\n",
       "      <th>StanceB</th>\n",
       "      <th>WeightClassA</th>\n",
       "      <th>WeightClassB</th>\n",
       "      <th>TitleFight</th>\n",
       "      <th>LocationAdvantage</th>\n",
       "      <th>Result</th>\n",
       "    </tr>\n",
       "  </thead>\n",
       "  <tbody>\n",
       "    <tr>\n",
       "      <th>0</th>\n",
       "      <td>Dmitry Bivol</td>\n",
       "      <td>Canelo Alvarez</td>\n",
       "      <td>183</td>\n",
       "      <td>179</td>\n",
       "      <td>183</td>\n",
       "      <td>171</td>\n",
       "      <td>174.0</td>\n",
       "      <td>174.0</td>\n",
       "      <td>31</td>\n",
       "      <td>31</td>\n",
       "      <td>...</td>\n",
       "      <td>0.78</td>\n",
       "      <td>8.0</td>\n",
       "      <td>10.0</td>\n",
       "      <td>Orthodox</td>\n",
       "      <td>Orthodox</td>\n",
       "      <td>LightHeavyweight</td>\n",
       "      <td>LightHeavyweight</td>\n",
       "      <td>1</td>\n",
       "      <td>0.0</td>\n",
       "      <td>1</td>\n",
       "    </tr>\n",
       "    <tr>\n",
       "      <th>1</th>\n",
       "      <td>Muhammad Ali</td>\n",
       "      <td>Joe Frazier</td>\n",
       "      <td>198</td>\n",
       "      <td>187</td>\n",
       "      <td>191</td>\n",
       "      <td>182</td>\n",
       "      <td>215.0</td>\n",
       "      <td>205.5</td>\n",
       "      <td>29</td>\n",
       "      <td>27</td>\n",
       "      <td>...</td>\n",
       "      <td>0.74</td>\n",
       "      <td>10.0</td>\n",
       "      <td>9.0</td>\n",
       "      <td>Orthodox</td>\n",
       "      <td>Orthodox</td>\n",
       "      <td>Heavyweight</td>\n",
       "      <td>Heavyweight</td>\n",
       "      <td>1</td>\n",
       "      <td>0.0</td>\n",
       "      <td>0</td>\n",
       "    </tr>\n",
       "    <tr>\n",
       "      <th>2</th>\n",
       "      <td>Thomas Hearns</td>\n",
       "      <td>Marvin Hagler</td>\n",
       "      <td>198</td>\n",
       "      <td>191</td>\n",
       "      <td>185</td>\n",
       "      <td>178</td>\n",
       "      <td>159.5</td>\n",
       "      <td>159.0</td>\n",
       "      <td>26</td>\n",
       "      <td>30</td>\n",
       "      <td>...</td>\n",
       "      <td>0.76</td>\n",
       "      <td>9.0</td>\n",
       "      <td>10.0</td>\n",
       "      <td>Orthodox</td>\n",
       "      <td>Southpaw</td>\n",
       "      <td>Middleweight</td>\n",
       "      <td>Middleweight</td>\n",
       "      <td>1</td>\n",
       "      <td>0.0</td>\n",
       "      <td>0</td>\n",
       "    </tr>\n",
       "    <tr>\n",
       "      <th>3</th>\n",
       "      <td>Floyd Mayweather</td>\n",
       "      <td>Manny Pacquiao</td>\n",
       "      <td>183</td>\n",
       "      <td>170</td>\n",
       "      <td>173</td>\n",
       "      <td>165</td>\n",
       "      <td>154.0</td>\n",
       "      <td>154.0</td>\n",
       "      <td>38</td>\n",
       "      <td>36</td>\n",
       "      <td>...</td>\n",
       "      <td>0.76</td>\n",
       "      <td>10.0</td>\n",
       "      <td>10.0</td>\n",
       "      <td>Orthodox</td>\n",
       "      <td>Southpaw</td>\n",
       "      <td>Welterweight</td>\n",
       "      <td>Welterweight</td>\n",
       "      <td>1</td>\n",
       "      <td>0.0</td>\n",
       "      <td>1</td>\n",
       "    </tr>\n",
       "    <tr>\n",
       "      <th>4</th>\n",
       "      <td>Lennox Lewis</td>\n",
       "      <td>Vitali Klitschko</td>\n",
       "      <td>213</td>\n",
       "      <td>201</td>\n",
       "      <td>196</td>\n",
       "      <td>201</td>\n",
       "      <td>244.0</td>\n",
       "      <td>248.5</td>\n",
       "      <td>37</td>\n",
       "      <td>31</td>\n",
       "      <td>...</td>\n",
       "      <td>0.72</td>\n",
       "      <td>10.0</td>\n",
       "      <td>9.0</td>\n",
       "      <td>Orthodox</td>\n",
       "      <td>Orthodox</td>\n",
       "      <td>Heavyweight</td>\n",
       "      <td>Heavyweight</td>\n",
       "      <td>1</td>\n",
       "      <td>0.0</td>\n",
       "      <td>1</td>\n",
       "    </tr>\n",
       "  </tbody>\n",
       "</table>\n",
       "<p>5 rows × 47 columns</p>\n",
       "</div>"
      ]
     },
     "execution_count": 2,
     "metadata": {},
     "output_type": "execute_result"
    }
   ],
   "execution_count": 2
  },
  {
   "metadata": {
    "ExecuteTime": {
     "end_time": "2025-09-08T16:55:33.714698Z",
     "start_time": "2025-09-08T16:55:33.706180Z"
    }
   },
   "cell_type": "code",
   "source": [
    "def engineer_features(df):\n",
    "    # Primary diffs\n",
    "    df[\"ReachDiff\"]      = df[\"ReachA\"]  - df[\"ReachB\"]\n",
    "    df[\"AgeDiff\"]        = df[\"AgeA\"]    - df[\"AgeB\"]\n",
    "    df[\"HeightDiff\"]     = df[\"HeightA\"] - df[\"HeightB\"]\n",
    "    df[\"WeightDiff\"]     = df[\"WeightA\"] - df[\"WeightB\"]\n",
    "    df[\"KODiff\"]         = df[\"KOPercA\"] - df[\"KOPercB\"]\n",
    "    df[\"WinDiff\"]        = df[\"WinsA\"]   - df[\"WinsB\"]\n",
    "    df[\"RecentWinPercDiff\"] = df[\"RecentWinPercA\"] - df[\"RecentWinPercB\"]\n",
    "    df[\"DefenseDiff\"]    = df[\"DefensePercA\"] - df[\"DefensePercB\"]\n",
    "    df[\"PunchAccDiff\"]   = df[\"PunchAccuracyA\"] - df[\"PunchAccuracyB\"]\n",
    "    df[\"SoSDiff\"]        = df[\"StrengthOfScheduleA\"] - df[\"StrengthOfScheduleB\"]\n",
    "    df[\"TimeSinceDiff\"]  = df[\"TimeSinceLastFightA\"] - df[\"TimeSinceLastFightB\"]\n",
    "\n",
    "    # Interactions\n",
    "    df[\"PowerVsSchedule\"]   = df[\"KODiff\"] * df[\"SoSDiff\"]\n",
    "    df[\"WinsVsSchedule\"]    = df[\"WinDiff\"] * df[\"SoSDiff\"]\n",
    "    df[\"RecentFormWeighted\"] = df[\"RecentWinPercDiff\"] * (1 + 0.5 * (df[\"SoSDiff\"] / (1 + df[\"SoSDiff\"].abs())))\n",
    "\n",
    "    feature_cols = [\n",
    "        \"ReachDiff\",\"AgeDiff\",\"HeightDiff\",\"WeightDiff\",\n",
    "        \"KODiff\",\"WinDiff\",\"RecentWinPercDiff\",\"DefenseDiff\",\"PunchAccDiff\",\n",
    "        \"SoSDiff\",\"TimeSinceDiff\",\n",
    "        \"PowerVsSchedule\",\"WinsVsSchedule\",\"RecentFormWeighted\"\n",
    "    ]\n",
    "    return df, feature_cols\n",
    "\n",
    "df, feature_cols = engineer_features(df)\n",
    "len(feature_cols), feature_cols"
   ],
   "id": "b969e234293ede48",
   "outputs": [
    {
     "data": {
      "text/plain": [
       "(14,\n",
       " ['ReachDiff',\n",
       "  'AgeDiff',\n",
       "  'HeightDiff',\n",
       "  'WeightDiff',\n",
       "  'KODiff',\n",
       "  'WinDiff',\n",
       "  'RecentWinPercDiff',\n",
       "  'DefenseDiff',\n",
       "  'PunchAccDiff',\n",
       "  'SoSDiff',\n",
       "  'TimeSinceDiff',\n",
       "  'PowerVsSchedule',\n",
       "  'WinsVsSchedule',\n",
       "  'RecentFormWeighted'])"
      ]
     },
     "execution_count": 3,
     "metadata": {},
     "output_type": "execute_result"
    }
   ],
   "execution_count": 3
  },
  {
   "metadata": {
    "ExecuteTime": {
     "end_time": "2025-09-08T16:55:37.116229Z",
     "start_time": "2025-09-08T16:55:37.098659Z"
    }
   },
   "cell_type": "code",
   "source": [
    "X = df[feature_cols].copy()\n",
    "y = df[\"Result\"].astype(int).copy()\n",
    "\n",
    "imputer = SimpleImputer(strategy=\"mean\")\n",
    "X = pd.DataFrame(imputer.fit_transform(X), columns=feature_cols)\n",
    "\n",
    "X_train, X_test, y_train, y_test = train_test_split(\n",
    "    X, y, test_size=0.2, random_state=42, stratify=y\n",
    ")\n",
    "\n",
    "# Balance training set only\n",
    "smote = SMOTE(random_state=42, k_neighbors=1)\n",
    "X_train_res, y_train_res = smote.fit_resample(X_train, y_train)\n",
    "\n",
    "logging.info(f\"Before SMOTE: {y_train.value_counts().to_dict()}\")\n",
    "logging.info(f\"After SMOTE: {y_train_res.value_counts().to_dict()}\")\n",
    "\n",
    "cv = StratifiedKFold(n_splits=5, shuffle=True, random_state=42)"
   ],
   "id": "db95c7516a25820f",
   "outputs": [
    {
     "name": "stderr",
     "output_type": "stream",
     "text": [
      "INFO: Before SMOTE: {1: 154, 0: 89}\n",
      "INFO: After SMOTE: {0: 154, 1: 154}\n"
     ]
    }
   ],
   "execution_count": 4
  },
  {
   "metadata": {
    "ExecuteTime": {
     "end_time": "2025-09-08T16:56:19.741146Z",
     "start_time": "2025-09-08T16:55:58.723766Z"
    }
   },
   "cell_type": "code",
   "source": [
    "# Random Forest search\n",
    "rf = RandomForestClassifier(random_state=42, n_jobs=-1)\n",
    "rf_dist = {\n",
    "    \"n_estimators\":  [200, 300, 500, 700, 900],\n",
    "    \"max_depth\":     [6, 10, 14, 18, None],\n",
    "    \"min_samples_split\": [2, 5, 10],\n",
    "    \"min_samples_leaf\":  [1, 2, 4],\n",
    "    \"max_features\":  [\"sqrt\", \"log2\", None]\n",
    "}\n",
    "rf_search = RandomizedSearchCV(\n",
    "    rf, rf_dist, n_iter=30, scoring=\"roc_auc\", cv=cv, n_jobs=-1, random_state=42, verbose=0\n",
    ")\n",
    "rf_search.fit(X_train_res, y_train_res)\n",
    "rf_best = rf_search.best_estimator_\n",
    "logging.info(f\"RF best params: {rf_search.best_params_}\")\n",
    "\n",
    "# XGBoost search\n",
    "xgb_base = xgb.XGBClassifier(\n",
    "    objective=\"binary:logistic\",\n",
    "    eval_metric=\"logloss\",\n",
    "    random_state=42,\n",
    "    tree_method=\"hist\",\n",
    "    n_jobs=-1\n",
    ")\n",
    "xgb_dist = {\n",
    "    \"n_estimators\": [300, 500, 700, 900],\n",
    "    \"max_depth\": [3, 4, 5, 6, 7],\n",
    "    \"learning_rate\": [0.02, 0.03, 0.05, 0.08, 0.1],\n",
    "    \"subsample\": [0.7, 0.8, 0.9, 1.0],\n",
    "    \"colsample_bytree\": [0.6, 0.7, 0.8, 1.0],\n",
    "    \"min_child_weight\": [1, 3, 5, 7]\n",
    "}\n",
    "xgb_search = RandomizedSearchCV(\n",
    "    xgb_base, xgb_dist, n_iter=30, scoring=\"roc_auc\", cv=cv, n_jobs=-1, random_state=42, verbose=0\n",
    ")\n",
    "xgb_search.fit(X_train_res, y_train_res)\n",
    "xgb_best = xgb_search.best_estimator_\n",
    "logging.info(f\"XGB best params: {xgb_search.best_params_}\")"
   ],
   "id": "1ab1e21797fea381",
   "outputs": [
    {
     "name": "stderr",
     "output_type": "stream",
     "text": [
      "INFO: RF best params: {'n_estimators': 300, 'min_samples_split': 5, 'min_samples_leaf': 1, 'max_features': 'log2', 'max_depth': 18}\n",
      "INFO: XGB best params: {'subsample': 0.9, 'n_estimators': 300, 'min_child_weight': 1, 'max_depth': 5, 'learning_rate': 0.02, 'colsample_bytree': 0.6}\n"
     ]
    }
   ],
   "execution_count": 5
  },
  {
   "metadata": {
    "ExecuteTime": {
     "end_time": "2025-09-08T16:56:27.522399Z",
     "start_time": "2025-09-08T16:56:23.798231Z"
    }
   },
   "cell_type": "code",
   "source": [
    "# Build ensemble\n",
    "logreg = LogisticRegression(max_iter=1000, class_weight=\"balanced\", solver=\"liblinear\")\n",
    "ensemble = VotingClassifier(\n",
    "    estimators=[(\"rf\", rf_best), (\"xgb\", xgb_best), (\"lr\", logreg)],\n",
    "    voting=\"soft\",\n",
    "    n_jobs=-1\n",
    ")\n",
    "\n",
    "# Fit + calibrate\n",
    "ensemble.fit(X_train_res, y_train_res)\n",
    "final_model_calibrated = CalibratedClassifierCV(ensemble, cv=3, method=\"sigmoid\")\n",
    "final_model_calibrated.fit(X_train_res, y_train_res)\n",
    "\n",
    "# Evaluate on hold-out\n",
    "y_pred = final_model_calibrated.predict(X_test)\n",
    "y_proba = final_model_calibrated.predict_proba(X_test)[:, 1]\n",
    "\n",
    "print(\"\\n=== ENSEMBLE (Calibrated) ===\")\n",
    "print(classification_report(y_test, y_pred))\n",
    "print(\"Confusion Matrix:\\n\", confusion_matrix(y_test, y_pred))\n",
    "print(\"Accuracy:\", (y_pred == y_test).mean())\n",
    "print(\"Balanced Accuracy:\", balanced_accuracy_score(y_test, y_pred))\n",
    "print(\"ROC AUC:\", roc_auc_score(y_test, y_proba))\n",
    "print(\"Macro F1:\", f1_score(y_test, y_pred, average=\"macro\"))\n",
    "\n",
    "# ROC curve\n",
    "fpr, tpr, _ = roc_curve(y_test, y_proba)\n",
    "plt.figure(figsize=(7,5))\n",
    "plt.plot(fpr, tpr, label=f\"Ensemble (AUC={auc(fpr, tpr):.2f})\")\n",
    "plt.plot([0,1],[0,1],\"--\")\n",
    "plt.xlabel(\"False Positive Rate\"); plt.ylabel(\"True Positive Rate\")\n",
    "plt.title(\"ROC Curve — Final Ensemble\"); plt.legend(); plt.show()\n",
    "\n",
    "# Calibration (reliability) curve\n",
    "prob_true, prob_pred = calibration_curve(y_test, y_proba, n_bins=10, strategy='quantile')\n",
    "plt.figure(figsize=(7,5))\n",
    "plt.plot(prob_pred, prob_true, marker='o', label=\"Calibrated ensemble\")\n",
    "plt.plot([0,1],[0,1],\"--\")\n",
    "plt.xlabel(\"Predicted probability\"); plt.ylabel(\"Empirical probability\")\n",
    "plt.title(\"Calibration Curve\"); plt.legend(); plt.show()\n",
    "\n",
    "# Learning curve (on uncalibrated ensemble for speed)\n",
    "train_sizes, train_scores, valid_scores = learning_curve(\n",
    "    ensemble, X_train_res, y_train_res, cv=5, scoring=\"roc_auc\",\n",
    "    train_sizes=np.linspace(0.1, 1.0, 5), n_jobs=-1, shuffle=True, random_state=42\n",
    ")\n",
    "plt.figure(figsize=(7,5))\n",
    "plt.plot(train_sizes, train_scores.mean(axis=1), marker='o', label=\"Train AUC\")\n",
    "plt.plot(train_sizes, valid_scores.mean(axis=1), marker='o', label=\"CV AUC\")\n",
    "plt.xlabel(\"Training samples\"); plt.ylabel(\"AUC\")\n",
    "plt.title(\"Learning Curve — Ensemble (pre-calibration)\"); plt.legend(); plt.show()"
   ],
   "id": "be6b878939644899",
   "outputs": [
    {
     "name": "stdout",
     "output_type": "stream",
     "text": [
      "\n",
      "=== ENSEMBLE (Calibrated) ===\n",
      "              precision    recall  f1-score   support\n",
      "\n",
      "           0       0.89      0.73      0.80        22\n",
      "           1       0.86      0.95      0.90        39\n",
      "\n",
      "    accuracy                           0.87        61\n",
      "   macro avg       0.87      0.84      0.85        61\n",
      "weighted avg       0.87      0.87      0.87        61\n",
      "\n",
      "Confusion Matrix:\n",
      " [[16  6]\n",
      " [ 2 37]]\n",
      "Accuracy: 0.8688524590163934\n",
      "Balanced Accuracy: 0.837995337995338\n",
      "ROC AUC: 0.8554778554778555\n",
      "Macro F1: 0.851219512195122\n"
     ]
    },
    {
     "data": {
      "text/plain": [
       "<Figure size 700x500 with 1 Axes>"
      ],
      "image/png": "[encoded data removed]"
     },
     "metadata": {},
     "output_type": "display_data"
    },
    {
     "data": {
      "text/plain": [
       "<Figure size 700x500 with 1 Axes>"
      ],
      "image/png": "[encoded data removed]"
     },
     "metadata": {},
     "output_type": "display_data"
    },
    {
     "data": {
      "text/plain": [
       "<Figure size 700x500 with 1 Axes>"
      ],
      "image/png": "[encoded data removed]"
     },
     "metadata": {},
     "output_type": "display_data"
    }
   ],
   "execution_count": 6
  },
  {
   "metadata": {
    "ExecuteTime": {
     "end_time": "2025-09-08T16:59:10.028866Z",
     "start_time": "2025-09-08T16:59:09.532318Z"
    }
   },
   "cell_type": "code",
   "source": [
    "joblib.dump(final_model_calibrated, \"fight_predictor_ensemble.pkl\")\n",
    "logging.info(\"Saved calibrated ensemble to fight_predictor_ensemble.pkl\")"
   ],
   "id": "8307e579fa0f847e",
   "outputs": [
    {
     "name": "stderr",
     "output_type": "stream",
     "text": [
      "INFO: Saved calibrated ensemble to fight_predictor_ensemble.pkl\n"
     ]
    }
   ],
   "execution_count": 7
  },
  {
   "metadata": {
    "ExecuteTime": {
     "end_time": "2025-09-08T16:59:11.681850Z",
     "start_time": "2025-09-08T16:59:11.659366Z"
    }
   },
   "cell_type": "code",
   "source": [
    "# Build per-fighter stats dict from both A & B perspectives\n",
    "fighters_stats = {}\n",
    "for _, row in df.iterrows():\n",
    "    fighters_stats[row[\"FighterA\"]] = {\n",
    "        \"Reach\": row[\"ReachA\"], \"Age\": row[\"AgeA\"], \"Height\": row[\"HeightA\"],\n",
    "        \"Weight\": row[\"WeightA\"], \"KO%\": row[\"KOPercA\"], \"Wins\": row[\"WinsA\"],\n",
    "        \"RecentWin%\": row[\"RecentWinPercA\"], \"Defense%\": row[\"DefensePercA\"],\n",
    "        \"PunchAcc\": row[\"PunchAccuracyA\"], \"SoS\": row[\"StrengthOfScheduleA\"],\n",
    "        \"TimeSince\": row[\"TimeSinceLastFightA\"]\n",
    "    }\n",
    "    fighters_stats[row[\"FighterB\"]] = {\n",
    "        \"Reach\": row[\"ReachB\"], \"Age\": row[\"AgeB\"], \"Height\": row[\"HeightB\"],\n",
    "        \"Weight\": row[\"WeightB\"], \"KO%\": row[\"KOPercB\"], \"Wins\": row[\"WinsB\"],\n",
    "        \"RecentWin%\": row[\"RecentWinPercB\"], \"Defense%\": row[\"DefensePercB\"],\n",
    "        \"PunchAcc\": row[\"PunchAccuracyB\"], \"SoS\": row[\"StrengthOfScheduleB\"],\n",
    "        \"TimeSince\": row[\"TimeSinceLastFightB\"]\n",
    "    }\n",
    "\n",
    "all_fighters = sorted(set(fighters_stats.keys()))\n",
    "\n",
    "# Optional: alias map to control exact mapping (prevents Sr↔Jr)\n",
    "alias_map = {\n",
    "    # \"Floyd Mayweather Jr\": \"Floyd Mayweather Jr\",  # add entries if your CSV uses different spelling\n",
    "    # \"Floyd Mayweather\": \"Floyd Mayweather Jr\",\n",
    "}\n",
    "\n",
    "def list_fighters_like(substring):\n",
    "    return [f for f in all_fighters if substring.lower() in f.lower()]\n",
    "\n",
    "def register_alias(alias, canonical):\n",
    "    alias_map[alias] = canonical\n",
    "\n",
    "def _resolve_name(name, choices, cutoff=0.95):\n",
    "    \"\"\"Strict resolver: exact match or high-confidence fuzzy, with alias override.\"\"\"\n",
    "    if name in alias_map:\n",
    "        return alias_map[name]\n",
    "    if name in choices:\n",
    "        return name\n",
    "    cand = get_close_matches(name, choices, n=1, cutoff=cutoff)\n",
    "    if cand:\n",
    "        return cand[0]\n",
    "    raise ValueError(f\"Fighter '{name}' not found. Try one of: {choices[:10]} ...\")\n",
    "\n",
    "len(all_fighters), all_fighters[:10]"
   ],
   "id": "3a09752779ca79d5",
   "outputs": [
    {
     "data": {
      "text/plain": [
       "(367,\n",
       " ['Aaron Pryor',\n",
       "  'Abner Mares',\n",
       "  'Acelino Freitas',\n",
       "  'Adonis Stevenson',\n",
       "  'Adrien Broner',\n",
       "  'Alexis Arguello',\n",
       "  'Alfredo Angulo',\n",
       "  'Alycia Baumgardner',\n",
       "  'Amanda Serrano',\n",
       "  'Amir Khan'])"
      ]
     },
     "execution_count": 8,
     "metadata": {},
     "output_type": "execute_result"
    }
   ],
   "execution_count": 8
  },
  {
   "metadata": {
    "ExecuteTime": {
     "end_time": "2025-09-08T16:59:25.977032Z",
     "start_time": "2025-09-08T16:59:25.973234Z"
    }
   },
   "cell_type": "code",
   "source": [
    "def _build_feature_row(statsA, statsB):\n",
    "    feats = {\n",
    "        \"ReachDiff\": statsA[\"Reach\"] - statsB[\"Reach\"],\n",
    "        \"AgeDiff\": statsA[\"Age\"] - statsB[\"Age\"],\n",
    "        \"HeightDiff\": statsA[\"Height\"] - statsB[\"Height\"],\n",
    "        \"WeightDiff\": statsA[\"Weight\"] - statsB[\"Weight\"],\n",
    "        \"KODiff\": statsA[\"KO%\"] - statsB[\"KO%\"],\n",
    "        \"WinDiff\": statsA[\"Wins\"] - statsB[\"Wins\"],\n",
    "        \"RecentWinPercDiff\": statsA[\"RecentWin%\"] - statsB[\"RecentWin%\"],\n",
    "        \"DefenseDiff\": statsA[\"Defense%\"] - statsB[\"Defense%\"],\n",
    "        \"PunchAccDiff\": statsA[\"PunchAcc\"] - statsB[\"PunchAcc\"],\n",
    "        \"SoSDiff\": statsA[\"SoS\"] - statsB[\"SoS\"],\n",
    "        \"TimeSinceDiff\": statsA[\"TimeSince\"] - statsB[\"TimeSince\"]\n",
    "    }\n",
    "    feats[\"PowerVsSchedule\"] = feats[\"KODiff\"] * feats[\"SoSDiff\"]\n",
    "    feats[\"WinsVsSchedule\"]  = feats[\"WinDiff\"] * feats[\"SoSDiff\"]\n",
    "    feats[\"RecentFormWeighted\"] = feats[\"RecentWinPercDiff\"] * (1 + 0.5 * (feats[\"SoSDiff\"] / (1 + abs(feats[\"SoSDiff\"]))))\n",
    "\n",
    "    return pd.DataFrame([feats])[feature_cols]"
   ],
   "id": "d73a2508d9b425f8",
   "outputs": [],
   "execution_count": 9
  },
  {
   "metadata": {
    "ExecuteTime": {
     "end_time": "2025-09-08T16:59:28.708759Z",
     "start_time": "2025-09-08T16:59:28.616875Z"
    }
   },
   "cell_type": "code",
   "source": [
    "def predict_fight(fighterA, fighterB, model=final_model_calibrated, imputer_obj=imputer, return_dict=False):\n",
    "    A = _resolve_name(fighterA, all_fighters)\n",
    "    B = _resolve_name(fighterB, all_fighters)\n",
    "\n",
    "    statsA, statsB = fighters_stats[A], fighters_stats[B]\n",
    "    X_pred = _build_feature_row(statsA, statsB)\n",
    "    X_pred = pd.DataFrame(imputer_obj.transform(X_pred), columns=feature_cols)\n",
    "\n",
    "    proba_A = model.predict_proba(X_pred)[0, 1]   # P(Fighter A wins)\n",
    "    pred_A_wins = proba_A >= 0.5\n",
    "    winner = A if pred_A_wins else B\n",
    "    confidence = float(proba_A if pred_A_wins else (1 - proba_A))\n",
    "\n",
    "    if return_dict:\n",
    "        return {\"fighter_A\": A, \"fighter_B\": B, \"winner\": winner, \"confidence\": confidence}\n",
    "    return f\"Predicted winner: {winner} (Confidence: {confidence:.2f})\"\n",
    "\n",
    "print(predict_fight(\"Naoya Inoue\", \"Floyd Mayweather\"))"
   ],
   "id": "7499cf9e02cd9511",
   "outputs": [
    {
     "name": "stdout",
     "output_type": "stream",
     "text": [
      "Predicted winner: Naoya Inoue (Confidence: 0.67)\n"
     ]
    }
   ],
   "execution_count": 10
  },
  {
   "metadata": {
    "ExecuteTime": {
     "end_time": "2025-09-08T16:59:32.900768Z",
     "start_time": "2025-09-08T16:59:32.641825Z"
    }
   },
   "cell_type": "code",
   "source": [
    "def explain_fight(fighterA, fighterB, model=final_model_calibrated, imputer_obj=imputer, top_k=10, out_dir=\"explanations\"):\n",
    "    os.makedirs(out_dir, exist_ok=True)\n",
    "\n",
    "    A = _resolve_name(fighterA, all_fighters)\n",
    "    B = _resolve_name(fighterB, all_fighters)\n",
    "    statsA, statsB = fighters_stats[A], fighters_stats[B]\n",
    "    X_pred = _build_feature_row(statsA, statsB)\n",
    "    X_pred = pd.DataFrame(imputer_obj.transform(X_pred), columns=feature_cols)\n",
    "\n",
    "    proba_A = model.predict_proba(X_pred)[0, 1]\n",
    "    winner = A if proba_A >= 0.5 else B\n",
    "    confidence = float(proba_A if proba_A >= 0.5 else 1 - proba_A)\n",
    "\n",
    "    feature_values = X_pred.iloc[0]\n",
    "    # Use RF importances as a proxy for directionless importance; sign comes from the diff value\n",
    "    rf_importances = pd.Series(rf_best.feature_importances_, index=feature_cols).clip(lower=0)\n",
    "    contrib = feature_values * rf_importances  # signed by diff, scaled by importance\n",
    "\n",
    "    # Get top contributors by absolute magnitude\n",
    "    top = contrib.abs().sort_values(ascending=False).head(top_k).index\n",
    "    top_contrib = contrib[top].sort_values()\n",
    "\n",
    "    # Print summary\n",
    "    print(f\"🥊 {A} vs {B}\")\n",
    "    print(f\"Predicted winner: {winner} (Confidence: {confidence:.2%})\")\n",
    "    print(\"\\nTop contributing factors (signed = pro-A positive / pro-B negative):\")\n",
    "    for feat in top:\n",
    "        print(f\" - {feat}: diff={feature_values[feat]:.3f}, importance={rf_importances[feat]:.3f}, signed_contrib={contrib[feat]:.4f}\")\n",
    "\n",
    "    # Plot contributions\n",
    "    plt.figure(figsize=(8, 6))\n",
    "    top_contrib.plot(kind=\"barh\")\n",
    "    plt.title(f\"Feature Contributions: {A} vs {B}\")\n",
    "    plt.xlabel(\"Signed contribution (diff × importance)\")\n",
    "    plt.tight_layout()\n",
    "    plt.show()\n",
    "\n",
    "    # Save CSV + JSON\n",
    "    rec = {\n",
    "        \"fighter_A\": A, \"fighter_B\": B, \"winner\": winner, \"confidence\": confidence,\n",
    "        \"proba_A\": float(proba_A),\n",
    "        \"top_contributions\": [{ \"feature\": f, \"diff\": float(feature_values[f]),\n",
    "                                \"importance\": float(rf_importances[f]),\n",
    "                                \"signed_contrib\": float(contrib[f]) }\n",
    "                              for f in top]\n",
    "    }\n",
    "    base = f\"{A.replace(' ','_')}_vs_{B.replace(' ','_')}\"\n",
    "    csv_path = os.path.join(out_dir, f\"{base}_explanation.csv\")\n",
    "    json_path = os.path.join(out_dir, f\"{base}_explanation.json\")\n",
    "\n",
    "    pd.DataFrame(rec[\"top_contributions\"]).to_csv(csv_path, index=False)\n",
    "    with open(json_path, \"w\") as f:\n",
    "        json.dump(rec, f, indent=2)\n",
    "\n",
    "    print(f\"\\nSaved: {csv_path}\")\n",
    "    print(f\"Saved: {json_path}\")\n",
    "\n",
    "# Example\n",
    "explain_fight(\"Naoya Inoue\", \"Floyd Mayweather\")"
   ],
   "id": "6e8adc5c110af5a1",
   "outputs": [
    {
     "name": "stdout",
     "output_type": "stream",
     "text": [
      "🥊 Naoya Inoue vs Floyd Mayweather\n",
      "Predicted winner: Naoya Inoue (Confidence: 66.75%)\n",
      "\n",
      "Top contributing factors (signed = pro-A positive / pro-B negative):\n",
      " - WinsVsSchedule: diff=23.000, importance=0.089, signed_contrib=2.0544\n",
      " - WinDiff: diff=-23.000, importance=0.040, signed_contrib=-0.9315\n",
      " - ReachDiff: diff=-12.000, importance=0.046, signed_contrib=-0.5521\n",
      " - AgeDiff: diff=-8.000, importance=0.054, signed_contrib=-0.4286\n",
      " - HeightDiff: diff=-8.000, importance=0.046, signed_contrib=-0.3662\n",
      " - PunchAccDiff: diff=-4.000, importance=0.070, signed_contrib=-0.2802\n",
      " - DefenseDiff: diff=4.000, importance=0.053, signed_contrib=0.2111\n",
      " - SoSDiff: diff=-1.000, importance=0.125, signed_contrib=-0.1245\n",
      " - PowerVsSchedule: diff=-0.330, importance=0.137, signed_contrib=-0.0451\n",
      " - KODiff: diff=0.330, importance=0.058, signed_contrib=0.0191\n"
     ]
    },
    {
     "data": {
      "text/plain": [
       "<Figure size 800x600 with 1 Axes>"
      ],
      "image/png": "[encoded data removed]"
     },
     "metadata": {},
     "output_type": "display_data"
    },
    {
     "name": "stdout",
     "output_type": "stream",
     "text": [
      "\n",
      "Saved: explanations\\Naoya_Inoue_vs_Floyd_Mayweather_explanation.csv\n",
      "Saved: explanations\\Naoya_Inoue_vs_Floyd_Mayweather_explanation.json\n"
     ]
    }
   ],
   "execution_count": 11
  },
  {
   "metadata": {
    "ExecuteTime": {
     "end_time": "2025-09-06T20:38:24.223541Z",
     "start_time": "2025-09-06T20:38:24.010410Z"
    }
   },
   "cell_type": "code",
   "source": [
    "def historical_replay(df_subset, model=final_model_calibrated, imputer_obj=imputer):\n",
    "    \"\"\"\n",
    "    Re-run predictions on historical rows in df_subset and compare to actual Result.\n",
    "    df_subset must contain FighterA, FighterB, and engineered feature columns + Result.\n",
    "    \"\"\"\n",
    "    needed = set(feature_cols + [\"Result\", \"FighterA\", \"FighterB\"])\n",
    "    missing = needed - set(df_subset.columns)\n",
    "    if missing:\n",
    "        raise ValueError(f\"df_subset is missing columns: {missing}\")\n",
    "\n",
    "    X_eval = df_subset[feature_cols].copy()\n",
    "    y_true = df_subset[\"Result\"].astype(int).values\n",
    "    X_eval = pd.DataFrame(imputer_obj.transform(X_eval), columns=feature_cols)\n",
    "\n",
    "    y_proba = model.predict_proba(X_eval)[:, 1]\n",
    "    y_pred = (y_proba >= 0.5).astype(int)\n",
    "\n",
    "    print(\"\\n=== Historical Replay ===\")\n",
    "    print(classification_report(y_true, y_pred))\n",
    "    print(\"Confusion Matrix:\\n\", confusion_matrix(y_true, y_pred))\n",
    "    print(\"Accuracy:\", (y_pred == y_true).mean())\n",
    "    print(\"Balanced Accuracy:\", balanced_accuracy_score(y_true, y_pred))\n",
    "    print(\"ROC AUC:\", roc_auc_score(y_true, y_proba))\n",
    "    print(\"Macro F1:\", f1_score(y_true, y_pred, average=\"macro\"))\n",
    "\n",
    "    out = df_subset[[\"FighterA\",\"FighterB\",\"Result\"]].copy()\n",
    "    out[\"proba_A_win\"] = y_proba\n",
    "    out[\"pred_A_win\"] = y_pred\n",
    "    out[\"correct\"] = (y_pred == y_true).astype(int)\n",
    "    return out\n",
    "\n",
    "# Convenience: replay on the exact test rows you held out\n",
    "test_index = X_test.index\n",
    "df_test_rows = df.loc[test_index].copy()  # these rows already have engineered features + Result\n",
    "replay_report = historical_replay(df_test_rows)\n",
    "replay_report.head()"
   ],
   "id": "658baadff2a95fd7",
   "outputs": [
    {
     "name": "stdout",
     "output_type": "stream",
     "text": [
      "\n",
      "=== Historical Replay ===\n",
      "              precision    recall  f1-score   support\n",
      "\n",
      "           0       0.89      0.73      0.80        22\n",
      "           1       0.86      0.95      0.90        39\n",
      "\n",
      "    accuracy                           0.87        61\n",
      "   macro avg       0.87      0.84      0.85        61\n",
      "weighted avg       0.87      0.87      0.87        61\n",
      "\n",
      "Confusion Matrix:\n",
      " [[16  6]\n",
      " [ 2 37]]\n",
      "Accuracy: 0.8688524590163934\n",
      "Balanced Accuracy: 0.837995337995338\n",
      "ROC AUC: 0.8554778554778555\n",
      "Macro F1: 0.851219512195122\n"
     ]
    },
    {
     "data": {
      "text/plain": [
       "           FighterA          FighterB  Result  proba_A_win  pred_A_win  \\\n",
       "211   Brian Castano  Patrick Teixeira       1     0.851125           1   \n",
       "92    Max Schmeling         Joe Louis       0     0.281357           0   \n",
       "137  Mikkel Kessler        Carl Froch       0     0.028467           0   \n",
       "63     Johnny Tapia      Paulie Ayala       0     0.914372           1   \n",
       "124      Bob Foster       Joe Frazier       0     0.733724           1   \n",
       "\n",
       "     correct  \n",
       "211        1  \n",
       "92         1  \n",
       "137        1  \n",
       "63         0  \n",
       "124        0  "
      ],
      "text/html": [
       "<div>\n",
       "<style scoped>\n",
       "    .dataframe tbody tr th:only-of-type {\n",
       "        vertical-align: middle;\n",
       "    }\n",
       "\n",
       "    .dataframe tbody tr th {\n",
       "        vertical-align: top;\n",
       "    }\n",
       "\n",
       "    .dataframe thead th {\n",
       "        text-align: right;\n",
       "    }\n",
       "</style>\n",
       "<table border=\"1\" class=\"dataframe\">\n",
       "  <thead>\n",
       "    <tr style=\"text-align: right;\">\n",
       "      <th></th>\n",
       "      <th>FighterA</th>\n",
       "      <th>FighterB</th>\n",
       "      <th>Result</th>\n",
       "      <th>proba_A_win</th>\n",
       "      <th>pred_A_win</th>\n",
       "      <th>correct</th>\n",
       "    </tr>\n",
       "  </thead>\n",
       "  <tbody>\n",
       "    <tr>\n",
       "      <th>211</th>\n",
       "      <td>Brian Castano</td>\n",
       "      <td>Patrick Teixeira</td>\n",
       "      <td>1</td>\n",
       "      <td>0.851125</td>\n",
       "      <td>1</td>\n",
       "      <td>1</td>\n",
       "    </tr>\n",
       "    <tr>\n",
       "      <th>92</th>\n",
       "      <td>Max Schmeling</td>\n",
       "      <td>Joe Louis</td>\n",
       "      <td>0</td>\n",
       "      <td>0.281357</td>\n",
       "      <td>0</td>\n",
       "      <td>1</td>\n",
       "    </tr>\n",
       "    <tr>\n",
       "      <th>137</th>\n",
       "      <td>Mikkel Kessler</td>\n",
       "      <td>Carl Froch</td>\n",
       "      <td>0</td>\n",
       "      <td>0.028467</td>\n",
       "      <td>0</td>\n",
       "      <td>1</td>\n",
       "    </tr>\n",
       "    <tr>\n",
       "      <th>63</th>\n",
       "      <td>Johnny Tapia</td>\n",
       "      <td>Paulie Ayala</td>\n",
       "      <td>0</td>\n",
       "      <td>0.914372</td>\n",
       "      <td>1</td>\n",
       "      <td>0</td>\n",
       "    </tr>\n",
       "    <tr>\n",
       "      <th>124</th>\n",
       "      <td>Bob Foster</td>\n",
       "      <td>Joe Frazier</td>\n",
       "      <td>0</td>\n",
       "      <td>0.733724</td>\n",
       "      <td>1</td>\n",
       "      <td>0</td>\n",
       "    </tr>\n",
       "  </tbody>\n",
       "</table>\n",
       "</div>"
      ]
     },
     "execution_count": 17,
     "metadata": {},
     "output_type": "execute_result"
    }
   ],
   "execution_count": 17
  },
  {
   "metadata": {
    "ExecuteTime": {
     "end_time": "2025-09-06T20:39:47.754863Z",
     "start_time": "2025-09-06T20:39:47.743945Z"
    }
   },
   "cell_type": "code",
   "source": [
    "# --- CLEANERS ---\n",
    "def clean_stat(value: str) -> str:\n",
    "    if not isinstance(value, str):\n",
    "        return value\n",
    "    value = re.sub(r\"\\[\\d+\\]\", \"\", value)  # remove citations like [1]\n",
    "    value = value.replace(\"½\", \".5\").replace(\"⁄\", \"/\").replace(\"+\", \"\")\n",
    "    return value.strip()\n",
    "\n",
    "def parse_height(height_str):\n",
    "    height_str = clean_stat(height_str)\n",
    "    m = re.search(r\"\\((\\d+)\\s*cm\\)\", height_str)\n",
    "    return float(m.group(1)) if m else np.nan\n",
    "\n",
    "def parse_reach(reach_str):\n",
    "    reach_str = clean_stat(reach_str)\n",
    "    m = re.search(r\"\\((\\d+)\\s*cm\\)\", reach_str)\n",
    "    return float(m.group(1)) if m else np.nan\n",
    "\n",
    "def parse_weight(weight_str):\n",
    "    weight_str = clean_stat(weight_str)\n",
    "    m = re.search(r\"\\(([\\d.]+)\\s*kg\\)\", weight_str)\n",
    "    return float(m.group(1)) if m else np.nan\n",
    "\n",
    "# --- WIKIPEDIA SEARCH ---\n",
    "def wiki_search(name):\n",
    "    url = \"https://en.wikipedia.org/w/api.php\"\n",
    "    params = {\"action\": \"query\",\"list\": \"search\",\"srsearch\": name + \" boxer\",\"format\": \"json\"}\n",
    "    headers = {\"User-Agent\": \"FightPredictorBot/1.0 (contact: you@example.com)\"}\n",
    "    try:\n",
    "        resp = requests.get(url, params=params, headers=headers, timeout=10)\n",
    "        data = resp.json()\n",
    "        if \"query\" in data and data[\"query\"][\"search\"]:\n",
    "            return data[\"query\"][\"search\"][0][\"title\"]\n",
    "    except Exception as e:\n",
    "        logging.warning(f\"Wikipedia search failed for {name}: {e}\")\n",
    "    return None\n",
    "\n",
    "def fetch_wiki_stats(name):\n",
    "    page_title = wiki_search(name)\n",
    "    if not page_title:\n",
    "        return {}\n",
    "    url = f\"https://en.wikipedia.org/wiki/{page_title.replace(' ', '_')}\"\n",
    "    headers = {\"User-Agent\": \"FightPredictorBot/1.0 (contact: you@example.com)\"}\n",
    "    try:\n",
    "        resp = requests.get(url, headers=headers, timeout=10)\n",
    "        if resp.status_code != 200:\n",
    "            return {}\n",
    "        soup = BeautifulSoup(resp.text, \"html.parser\")\n",
    "        infobox = soup.find(\"table\", {\"class\": \"infobox\"})\n",
    "        stats = {}\n",
    "        if infobox:\n",
    "            for row in infobox.find_all(\"tr\"):\n",
    "                th, td = row.find(\"th\"), row.find(\"td\")\n",
    "                if th and td:\n",
    "                    key, val = th.text.strip(), td.text.strip().replace(\"\\xa0\", \" \")\n",
    "                    if key in (\"Height\", \"Reach\", \"Weight\"):\n",
    "                        stats[key.lower()] = clean_stat(val)\n",
    "        return stats\n",
    "    except Exception as e:\n",
    "        logging.warning(f\"Wikipedia fetch failed for {name}: {e}\")\n",
    "        return {}\n",
    "\n",
    "def get_fighter_data(name, base_dict):\n",
    "    base = base_dict.get(name, {\n",
    "        \"Reach\": np.nan, \"Age\": np.nan, \"Height\": np.nan, \"Weight\": np.nan,\n",
    "        \"KO%\": np.nan, \"Wins\": np.nan, \"RecentWin%\": np.nan,\n",
    "        \"Defense%\": np.nan, \"PunchAcc\": np.nan, \"SoS\": np.nan, \"TimeSince\": np.nan\n",
    "    }).copy()\n",
    "\n",
    "    wiki_stats = fetch_wiki_stats(name)\n",
    "    if wiki_stats:\n",
    "        if \"height\" in wiki_stats and pd.isna(base[\"Height\"]):\n",
    "            base[\"Height\"] = parse_height(wiki_stats[\"height\"])\n",
    "        if \"reach\" in wiki_stats and pd.isna(base[\"Reach\"]):\n",
    "            base[\"Reach\"] = parse_reach(wiki_stats[\"reach\"])\n",
    "        if \"weight\" in wiki_stats and pd.isna(base[\"Weight\"]):\n",
    "            base[\"Weight\"] = parse_weight(wiki_stats[\"weight\"])\n",
    "    return base\n",
    "\n",
    "def validate_dataset_with_wiki(csv_path, sample_size=50, tolerance=2.0):\n",
    "    df0 = pd.read_csv(csv_path)\n",
    "    fighters = sorted(set(df0[\"FighterA\"]).union(df0[\"FighterB\"]))\n",
    "    if sample_size:\n",
    "        fighters = np.random.choice(fighters, size=min(sample_size, len(fighters)), replace=False)\n",
    "\n",
    "    report = []\n",
    "    for fighter in fighters:\n",
    "        wiki = fetch_wiki_stats(fighter)\n",
    "        row = {\"Fighter\": fighter}\n",
    "        if not wiki:\n",
    "            row[\"Note\"] = \"⚠️ Not found on Wikipedia\"\n",
    "            report.append(row); continue\n",
    "        if \"height\" in wiki: row[\"Height_wiki\"] = parse_height(wiki[\"height\"])\n",
    "        if \"reach\" in wiki:  row[\"Reach_wiki\"]  = parse_reach(wiki[\"reach\"])\n",
    "        if \"weight\" in wiki: row[\"Weight_wiki\"] = parse_weight(wiki[\"weight\"])\n",
    "\n",
    "        if fighter in df0[\"FighterA\"].values:\n",
    "            s = df0.loc[df0[\"FighterA\"] == fighter].iloc[0]\n",
    "            row[\"Height_csv\"], row[\"Reach_csv\"], row[\"Weight_csv\"] = s[\"HeightA\"], s[\"ReachA\"], s[\"WeightA\"]\n",
    "        elif fighter in df0[\"FighterB\"].values:\n",
    "            s = df0.loc[df0[\"FighterB\"] == fighter].iloc[0]\n",
    "            row[\"Height_csv\"], row[\"Reach_csv\"], row[\"Weight_csv\"] = s[\"HeightB\"], s[\"ReachB\"], s[\"WeightB\"]\n",
    "\n",
    "        note = []\n",
    "        for stat in (\"Height\", \"Reach\", \"Weight\"):\n",
    "            c, w = row.get(f\"{stat}_csv\"), row.get(f\"{stat}_wiki\")\n",
    "            if pd.notna(c) and pd.notna(w) and abs(c - w) > tolerance:\n",
    "                note.append(f\"{stat} differs (CSV={c}, Wiki={w})\")\n",
    "        row[\"Note\"] = \" | \".join(note)\n",
    "        report.append(row)\n",
    "\n",
    "    return pd.DataFrame(report)\n",
    "\n",
    "# Example audit (optional)\n",
    "# discrepancies = validate_dataset_with_wiki(\"boxing_data.csv\", sample_size=50, tolerance=2.0)\n",
    "# discrepancies.to_csv(\"wiki_audit_report.csv\", index=False)\n",
    "# discrepancies.head()"
   ],
   "id": "a44ecbb3eeb97d8e",
   "outputs": [],
   "execution_count": 18
  },
  {
   "metadata": {
    "ExecuteTime": {
     "end_time": "2025-09-06T20:46:34.391081Z",
     "start_time": "2025-09-06T20:46:24.955769Z"
    }
   },
   "cell_type": "code",
   "source": [
    "from sklearn.model_selection import cross_val_score\n",
    "scores = cross_val_score(ensemble, X, y, cv=5, scoring=\"accuracy\")\n",
    "print(scores.mean(), scores.std())"
   ],
   "id": "d119581d78d0e406",
   "outputs": [
    {
     "name": "stdout",
     "output_type": "stream",
     "text": [
      "0.7466120218579235 0.025576806134343696\n"
     ]
    }
   ],
   "execution_count": 20
  }
 ],
 "metadata": {
  "kernelspec": {
   "display_name": "Python 3",
   "language": "python",
   "name": "python3"
  },
  "language_info": {
   "codemirror_mode": {
    "name": "ipython",
    "version": 2
   },
   "file_extension": ".py",
   "mimetype": "text/x-python",
   "name": "python",
   "nbconvert_exporter": "python",
   "pygments_lexer": "ipython2",
   "version": "2.7.6"
  }
 },
 "nbformat": 4,
 "nbformat_minor": 5
}
