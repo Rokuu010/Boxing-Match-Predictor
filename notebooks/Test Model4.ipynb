{
 "cells": [
  {
   "cell_type": "code",
   "id": "initial_id",
   "metadata": {
    "collapsed": true,
    "ExecuteTime": {
     "end_time": "2025-08-26T20:38:19.803613Z",
     "start_time": "2025-08-26T20:38:14.049728Z"
    }
   },
   "source": [
    "import pandas as pd\n",
    "from sklearn.model_selection import train_test_split, cross_val_score\n",
    "from sklearn.ensemble import RandomForestClassifier\n",
    "from sklearn.preprocessing import StandardScaler\n",
    "from sklearn.pipeline import make_pipeline"
   ],
   "outputs": [],
   "execution_count": 1
  },
  {
   "metadata": {
    "ExecuteTime": {
     "end_time": "2025-08-26T20:38:24.068848Z",
     "start_time": "2025-08-26T20:38:23.312522Z"
    }
   },
   "cell_type": "code",
   "source": [
    "df = pd.read_csv(\"boxing_data.csv\")\n",
    "\n",
    "df[\"ReachDiff\"] = df[\"ReachA\"] - df[\"ReachB\"]\n",
    "df[\"AgeDiff\"] = df[\"AgeA\"] - df[\"AgeB\"]\n",
    "df[\"HeightDiff\"] = df[\"HeightA\"] - df[\"HeightB\"]\n",
    "df[\"WeightDiff\"] = df[\"WeightA\"] - df[\"WeightB\"]\n",
    "df[\"KODiff\"] = df[\"KOpercA\"] - df[\"KOpercB\"]\n",
    "df[\"WinDiff\"] = df[\"WinsA\"] - df[\"WinsB\"]\n",
    "\n",
    "X = df[[\"ReachDiff\", \"AgeDiff\", \"HeightDiff\", \"WeightDiff\", \"KODiff\", \"WinDiff\"]]\n",
    "y = df[\"Result\"]   # 1 = FighterA wins, 0 = FighterB wins"
   ],
   "id": "8e5ad6f3bcea031",
   "outputs": [
    {
     "ename": "KeyError",
     "evalue": "'KOpercA'",
     "output_type": "error",
     "traceback": [
      "\u001B[31m---------------------------------------------------------------------------\u001B[39m",
      "\u001B[31mKeyError\u001B[39m                                  Traceback (most recent call last)",
      "\u001B[36mFile \u001B[39m\u001B[32m~\\IdeaProjects\\Boxing Match Predictor\\venv\\Lib\\site-packages\\pandas\\core\\indexes\\base.py:3812\u001B[39m, in \u001B[36mIndex.get_loc\u001B[39m\u001B[34m(self, key)\u001B[39m\n\u001B[32m   3811\u001B[39m \u001B[38;5;28;01mtry\u001B[39;00m:\n\u001B[32m-> \u001B[39m\u001B[32m3812\u001B[39m     \u001B[38;5;28;01mreturn\u001B[39;00m \u001B[38;5;28;43mself\u001B[39;49m\u001B[43m.\u001B[49m\u001B[43m_engine\u001B[49m\u001B[43m.\u001B[49m\u001B[43mget_loc\u001B[49m\u001B[43m(\u001B[49m\u001B[43mcasted_key\u001B[49m\u001B[43m)\u001B[49m\n\u001B[32m   3813\u001B[39m \u001B[38;5;28;01mexcept\u001B[39;00m \u001B[38;5;167;01mKeyError\u001B[39;00m \u001B[38;5;28;01mas\u001B[39;00m err:\n",
      "\u001B[36mFile \u001B[39m\u001B[32mpandas/_libs/index.pyx:167\u001B[39m, in \u001B[36mpandas._libs.index.IndexEngine.get_loc\u001B[39m\u001B[34m()\u001B[39m\n",
      "\u001B[36mFile \u001B[39m\u001B[32mpandas/_libs/index.pyx:196\u001B[39m, in \u001B[36mpandas._libs.index.IndexEngine.get_loc\u001B[39m\u001B[34m()\u001B[39m\n",
      "\u001B[36mFile \u001B[39m\u001B[32mpandas/_libs/hashtable_class_helper.pxi:7088\u001B[39m, in \u001B[36mpandas._libs.hashtable.PyObjectHashTable.get_item\u001B[39m\u001B[34m()\u001B[39m\n",
      "\u001B[36mFile \u001B[39m\u001B[32mpandas/_libs/hashtable_class_helper.pxi:7096\u001B[39m, in \u001B[36mpandas._libs.hashtable.PyObjectHashTable.get_item\u001B[39m\u001B[34m()\u001B[39m\n",
      "\u001B[31mKeyError\u001B[39m: 'KOpercA'",
      "\nThe above exception was the direct cause of the following exception:\n",
      "\u001B[31mKeyError\u001B[39m                                  Traceback (most recent call last)",
      "\u001B[36mCell\u001B[39m\u001B[36m \u001B[39m\u001B[32mIn[2]\u001B[39m\u001B[32m, line 7\u001B[39m\n\u001B[32m      5\u001B[39m df[\u001B[33m\"\u001B[39m\u001B[33mHeightDiff\u001B[39m\u001B[33m\"\u001B[39m] = df[\u001B[33m\"\u001B[39m\u001B[33mHeightA\u001B[39m\u001B[33m\"\u001B[39m] - df[\u001B[33m\"\u001B[39m\u001B[33mHeightB\u001B[39m\u001B[33m\"\u001B[39m]\n\u001B[32m      6\u001B[39m df[\u001B[33m\"\u001B[39m\u001B[33mWeightDiff\u001B[39m\u001B[33m\"\u001B[39m] = df[\u001B[33m\"\u001B[39m\u001B[33mWeightA\u001B[39m\u001B[33m\"\u001B[39m] - df[\u001B[33m\"\u001B[39m\u001B[33mWeightB\u001B[39m\u001B[33m\"\u001B[39m]\n\u001B[32m----> \u001B[39m\u001B[32m7\u001B[39m df[\u001B[33m\"\u001B[39m\u001B[33mKODiff\u001B[39m\u001B[33m\"\u001B[39m] = \u001B[43mdf\u001B[49m\u001B[43m[\u001B[49m\u001B[33;43m\"\u001B[39;49m\u001B[33;43mKOpercA\u001B[39;49m\u001B[33;43m\"\u001B[39;49m\u001B[43m]\u001B[49m - df[\u001B[33m\"\u001B[39m\u001B[33mKOpercB\u001B[39m\u001B[33m\"\u001B[39m]\n\u001B[32m      8\u001B[39m df[\u001B[33m\"\u001B[39m\u001B[33mWinDiff\u001B[39m\u001B[33m\"\u001B[39m] = df[\u001B[33m\"\u001B[39m\u001B[33mWinsA\u001B[39m\u001B[33m\"\u001B[39m] - df[\u001B[33m\"\u001B[39m\u001B[33mWinsB\u001B[39m\u001B[33m\"\u001B[39m]\n\u001B[32m     10\u001B[39m X = df[[\u001B[33m\"\u001B[39m\u001B[33mReachDiff\u001B[39m\u001B[33m\"\u001B[39m, \u001B[33m\"\u001B[39m\u001B[33mAgeDiff\u001B[39m\u001B[33m\"\u001B[39m, \u001B[33m\"\u001B[39m\u001B[33mHeightDiff\u001B[39m\u001B[33m\"\u001B[39m, \u001B[33m\"\u001B[39m\u001B[33mWeightDiff\u001B[39m\u001B[33m\"\u001B[39m, \u001B[33m\"\u001B[39m\u001B[33mKODiff\u001B[39m\u001B[33m\"\u001B[39m, \u001B[33m\"\u001B[39m\u001B[33mWinDiff\u001B[39m\u001B[33m\"\u001B[39m]]\n",
      "\u001B[36mFile \u001B[39m\u001B[32m~\\IdeaProjects\\Boxing Match Predictor\\venv\\Lib\\site-packages\\pandas\\core\\frame.py:4107\u001B[39m, in \u001B[36mDataFrame.__getitem__\u001B[39m\u001B[34m(self, key)\u001B[39m\n\u001B[32m   4105\u001B[39m \u001B[38;5;28;01mif\u001B[39;00m \u001B[38;5;28mself\u001B[39m.columns.nlevels > \u001B[32m1\u001B[39m:\n\u001B[32m   4106\u001B[39m     \u001B[38;5;28;01mreturn\u001B[39;00m \u001B[38;5;28mself\u001B[39m._getitem_multilevel(key)\n\u001B[32m-> \u001B[39m\u001B[32m4107\u001B[39m indexer = \u001B[38;5;28;43mself\u001B[39;49m\u001B[43m.\u001B[49m\u001B[43mcolumns\u001B[49m\u001B[43m.\u001B[49m\u001B[43mget_loc\u001B[49m\u001B[43m(\u001B[49m\u001B[43mkey\u001B[49m\u001B[43m)\u001B[49m\n\u001B[32m   4108\u001B[39m \u001B[38;5;28;01mif\u001B[39;00m is_integer(indexer):\n\u001B[32m   4109\u001B[39m     indexer = [indexer]\n",
      "\u001B[36mFile \u001B[39m\u001B[32m~\\IdeaProjects\\Boxing Match Predictor\\venv\\Lib\\site-packages\\pandas\\core\\indexes\\base.py:3819\u001B[39m, in \u001B[36mIndex.get_loc\u001B[39m\u001B[34m(self, key)\u001B[39m\n\u001B[32m   3814\u001B[39m     \u001B[38;5;28;01mif\u001B[39;00m \u001B[38;5;28misinstance\u001B[39m(casted_key, \u001B[38;5;28mslice\u001B[39m) \u001B[38;5;129;01mor\u001B[39;00m (\n\u001B[32m   3815\u001B[39m         \u001B[38;5;28misinstance\u001B[39m(casted_key, abc.Iterable)\n\u001B[32m   3816\u001B[39m         \u001B[38;5;129;01mand\u001B[39;00m \u001B[38;5;28many\u001B[39m(\u001B[38;5;28misinstance\u001B[39m(x, \u001B[38;5;28mslice\u001B[39m) \u001B[38;5;28;01mfor\u001B[39;00m x \u001B[38;5;129;01min\u001B[39;00m casted_key)\n\u001B[32m   3817\u001B[39m     ):\n\u001B[32m   3818\u001B[39m         \u001B[38;5;28;01mraise\u001B[39;00m InvalidIndexError(key)\n\u001B[32m-> \u001B[39m\u001B[32m3819\u001B[39m     \u001B[38;5;28;01mraise\u001B[39;00m \u001B[38;5;167;01mKeyError\u001B[39;00m(key) \u001B[38;5;28;01mfrom\u001B[39;00m\u001B[38;5;250m \u001B[39m\u001B[34;01merr\u001B[39;00m\n\u001B[32m   3820\u001B[39m \u001B[38;5;28;01mexcept\u001B[39;00m \u001B[38;5;167;01mTypeError\u001B[39;00m:\n\u001B[32m   3821\u001B[39m     \u001B[38;5;66;03m# If we have a listlike key, _check_indexing_error will raise\u001B[39;00m\n\u001B[32m   3822\u001B[39m     \u001B[38;5;66;03m#  InvalidIndexError. Otherwise we fall through and re-raise\u001B[39;00m\n\u001B[32m   3823\u001B[39m     \u001B[38;5;66;03m#  the TypeError.\u001B[39;00m\n\u001B[32m   3824\u001B[39m     \u001B[38;5;28mself\u001B[39m._check_indexing_error(key)\n",
      "\u001B[31mKeyError\u001B[39m: 'KOpercA'"
     ]
    }
   ],
   "execution_count": 2
  },
  {
   "metadata": {
    "ExecuteTime": {
     "end_time": "2025-08-23T17:25:44.391189Z",
     "start_time": "2025-08-23T17:25:44.197174Z"
    }
   },
   "cell_type": "code",
   "source": [
    "model = make_pipeline(\n",
    "    StandardScaler(),\n",
    "    RandomForestClassifier(\n",
    "        n_estimators=200,  #number of trees\n",
    "        max_depth=None,    #let it grow fully\n",
    "        random_state=42,   \n",
    "        class_weight=\"balanced\"   #handle imbalance\n",
    "    )\n",
    ")\n",
    "\n",
    "X_train, X_test, y_train, y_test = train_test_split(\n",
    "    X, y, test_size=0.2, random_state=42\n",
    ")\n",
    "\n",
    "model.fit(X_train, y_train)\n",
    "\n",
    "print(\"Train accuracy:\", model.score(X_train, y_train))\n",
    "print(\"Train accuracy:\", model.score(X_test, y_test))"
   ],
   "id": "ce279017764a013d",
   "outputs": [
    {
     "name": "stdout",
     "output_type": "stream",
     "text": [
      "Train accuracy: 1.0\n",
      "Train accuracy: 0.7868852459016393\n"
     ]
    }
   ],
   "execution_count": 3
  },
  {
   "metadata": {
    "ExecuteTime": {
     "end_time": "2025-08-23T17:25:50.213687Z",
     "start_time": "2025-08-23T17:25:50.197711Z"
    }
   },
   "cell_type": "code",
   "source": [
    "fighters_stats = {}\n",
    "\n",
    "for _, row in df.iterrows():\n",
    "    fighters_stats[row[\"FighterA\"]] = {\n",
    "        \"Reach\": row[\"ReachA\"],\n",
    "        \"Age\": row[\"AgeA\"],\n",
    "        \"Height\": row[\"HeightA\"],\n",
    "        \"Weight\": row[\"WeightA\"],\n",
    "        \"KO%\": row[\"KOpercA\"],\n",
    "        \"Wins\": row[\"WinsA\"]\n",
    "    }\n",
    "    fighters_stats[row[\"FighterB\"]] = {\n",
    "        \"Reach\": row[\"ReachB\"],\n",
    "        \"Age\": row[\"AgeB\"],\n",
    "        \"Height\": row[\"HeightB\"],\n",
    "        \"Weight\": row[\"WeightB\"],\n",
    "        \"KO%\": row[\"KOpercB\"],\n",
    "        \"Wins\": row[\"WinsB\"]\n",
    "    }"
   ],
   "id": "db2782ff39896b3c",
   "outputs": [],
   "execution_count": 4
  },
  {
   "metadata": {
    "ExecuteTime": {
     "end_time": "2025-08-23T17:25:53.492669Z",
     "start_time": "2025-08-23T17:25:53.488332Z"
    }
   },
   "cell_type": "code",
   "source": [
    "def predict_fight(fighterA, fighterB, model, fighters_stats):\n",
    "    statsA = fighters_stats[fighterA]\n",
    "    statsB = fighters_stats[fighterB]\n",
    "\n",
    "    features = {\n",
    "        \"ReachDiff\": statsA[\"Reach\"] - statsB[\"Reach\"],\n",
    "        \"AgeDiff\": statsA[\"Age\"] - statsB[\"Age\"],\n",
    "        \"HeightDiff\": statsA[\"Height\"] - statsB[\"Height\"],\n",
    "        \"WeightDiff\": statsA[\"Weight\"] - statsB[\"Weight\"],\n",
    "        \"KODiff\": statsA[\"KO%\"] - statsB[\"KO%\"],\n",
    "        \"WinDiff\": statsA[\"Wins\"] - statsB[\"Wins\"]\n",
    "    }\n",
    "\n",
    "    X_pred = pd.DataFrame([features])\n",
    "    pred = model.predict(X_pred)[0]\n",
    "    prob = model.predict_proba(X_pred)[0].max()\n",
    "\n",
    "    winner = fighterA if pred == 1 else fighterB\n",
    "    return winner, prob"
   ],
   "id": "6b468a08bcfd9365",
   "outputs": [],
   "execution_count": 5
  },
  {
   "metadata": {
    "ExecuteTime": {
     "end_time": "2025-08-23T20:31:52.955323Z",
     "start_time": "2025-08-23T20:31:52.938176Z"
    }
   },
   "cell_type": "code",
   "source": [
    "winner, confidence = predict_fight(\"Mike Tyson\", \"Muhammad Ali\", model, fighters_stats)\n",
    "print(f\"Predicted winner: {winner} (Confidence: {confidence:.2f})\")"
   ],
   "id": "951f9ede63236e4f",
   "outputs": [
    {
     "name": "stdout",
     "output_type": "stream",
     "text": [
      "Predicted winner: Mike Tyson (Confidence: 0.83)\n"
     ]
    }
   ],
   "execution_count": 7
  }
 ],
 "metadata": {
  "kernelspec": {
   "display_name": "Python 3",
   "language": "python",
   "name": "python3"
  },
  "language_info": {
   "codemirror_mode": {
    "name": "ipython",
    "version": 2
   },
   "file_extension": ".py",
   "mimetype": "text/x-python",
   "name": "python",
   "nbconvert_exporter": "python",
   "pygments_lexer": "ipython2",
   "version": "2.7.6"
  }
 },
 "nbformat": 4,
 "nbformat_minor": 5
}
